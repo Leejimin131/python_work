{
  "nbformat": 4,
  "nbformat_minor": 0,
  "metadata": {
    "colab": {
      "provenance": [],
      "authorship_tag": "ABX9TyN6JZedoQ+ma3KZdmZzYbBI",
      "include_colab_link": true
    },
    "kernelspec": {
      "name": "python3",
      "display_name": "Python 3"
    },
    "language_info": {
      "name": "python"
    }
  },
  "cells": [
    {
      "cell_type": "markdown",
      "metadata": {
        "id": "view-in-github",
        "colab_type": "text"
      },
      "source": [
        "<a href=\"https://colab.research.google.com/github/Leejimin131/python_work/blob/main/Untitled0.ipynb\" target=\"_parent\"><img src=\"https://colab.research.google.com/assets/colab-badge.svg\" alt=\"Open In Colab\"/></a>"
      ]
    },
    {
      "cell_type": "code",
      "execution_count": 23,
      "metadata": {
        "colab": {
          "base_uri": "https://localhost:8080/"
        },
        "id": "YKAOpEbVWdg-",
        "outputId": "a7ca4e12-bc52-4eb3-9cb9-409f09620f6f",
        "collapsed": true
      },
      "outputs": [
        {
          "output_type": "stream",
          "name": "stdout",
          "text": [
            "Requirement already satisfied: roboflow in /usr/local/lib/python3.11/dist-packages (1.1.66)\n",
            "Requirement already satisfied: certifi in /usr/local/lib/python3.11/dist-packages (from roboflow) (2025.6.15)\n",
            "Requirement already satisfied: idna==3.7 in /usr/local/lib/python3.11/dist-packages (from roboflow) (3.7)\n",
            "Requirement already satisfied: cycler in /usr/local/lib/python3.11/dist-packages (from roboflow) (0.12.1)\n",
            "Requirement already satisfied: kiwisolver>=1.3.1 in /usr/local/lib/python3.11/dist-packages (from roboflow) (1.4.8)\n",
            "Requirement already satisfied: matplotlib in /usr/local/lib/python3.11/dist-packages (from roboflow) (3.10.0)\n",
            "Requirement already satisfied: numpy>=1.18.5 in /usr/local/lib/python3.11/dist-packages (from roboflow) (2.0.2)\n",
            "Requirement already satisfied: opencv-python-headless==4.10.0.84 in /usr/local/lib/python3.11/dist-packages (from roboflow) (4.10.0.84)\n",
            "Requirement already satisfied: Pillow>=7.1.2 in /usr/local/lib/python3.11/dist-packages (from roboflow) (11.2.1)\n",
            "Requirement already satisfied: pillow-heif>=0.18.0 in /usr/local/lib/python3.11/dist-packages (from roboflow) (0.22.0)\n",
            "Requirement already satisfied: python-dateutil in /usr/local/lib/python3.11/dist-packages (from roboflow) (2.9.0.post0)\n",
            "Requirement already satisfied: python-dotenv in /usr/local/lib/python3.11/dist-packages (from roboflow) (1.1.0)\n",
            "Requirement already satisfied: requests in /usr/local/lib/python3.11/dist-packages (from roboflow) (2.32.3)\n",
            "Requirement already satisfied: six in /usr/local/lib/python3.11/dist-packages (from roboflow) (1.17.0)\n",
            "Requirement already satisfied: urllib3>=1.26.6 in /usr/local/lib/python3.11/dist-packages (from roboflow) (2.4.0)\n",
            "Requirement already satisfied: tqdm>=4.41.0 in /usr/local/lib/python3.11/dist-packages (from roboflow) (4.67.1)\n",
            "Requirement already satisfied: PyYAML>=5.3.1 in /usr/local/lib/python3.11/dist-packages (from roboflow) (6.0.2)\n",
            "Requirement already satisfied: requests-toolbelt in /usr/local/lib/python3.11/dist-packages (from roboflow) (1.0.0)\n",
            "Requirement already satisfied: filetype in /usr/local/lib/python3.11/dist-packages (from roboflow) (1.2.0)\n",
            "Requirement already satisfied: contourpy>=1.0.1 in /usr/local/lib/python3.11/dist-packages (from matplotlib->roboflow) (1.3.2)\n",
            "Requirement already satisfied: fonttools>=4.22.0 in /usr/local/lib/python3.11/dist-packages (from matplotlib->roboflow) (4.58.4)\n",
            "Requirement already satisfied: packaging>=20.0 in /usr/local/lib/python3.11/dist-packages (from matplotlib->roboflow) (24.2)\n",
            "Requirement already satisfied: pyparsing>=2.3.1 in /usr/local/lib/python3.11/dist-packages (from matplotlib->roboflow) (3.2.3)\n",
            "Requirement already satisfied: charset-normalizer<4,>=2 in /usr/local/lib/python3.11/dist-packages (from requests->roboflow) (3.4.2)\n",
            "loading Roboflow workspace...\n",
            "loading Roboflow project...\n"
          ]
        }
      ],
      "source": [
        "!pip install roboflow\n",
        "\n",
        "from roboflow import Roboflow\n",
        "rf = Roboflow(api_key=\"w3NP33AZbkAxWz037QG2\")\n",
        "project = rf.workspace(\"pu-txenk\").project(\"second-issh2\")\n",
        "version = project.version(2)\n",
        "dataset = version.download(\"folder\")\n",
        ""
      ]
    },
    {
      "cell_type": "code",
      "source": [
        "!pip install ultralytics"
      ],
      "metadata": {
        "colab": {
          "base_uri": "https://localhost:8080/"
        },
        "collapsed": true,
        "id": "Z_bjCFK0Z-kF",
        "outputId": "6078c2f6-7b9d-4502-8d7f-ddf1a556df2b"
      },
      "execution_count": 24,
      "outputs": [
        {
          "output_type": "stream",
          "name": "stdout",
          "text": [
            "Requirement already satisfied: ultralytics in /usr/local/lib/python3.11/dist-packages (8.3.157)\n",
            "Requirement already satisfied: numpy>=1.23.0 in /usr/local/lib/python3.11/dist-packages (from ultralytics) (2.0.2)\n",
            "Requirement already satisfied: matplotlib>=3.3.0 in /usr/local/lib/python3.11/dist-packages (from ultralytics) (3.10.0)\n",
            "Requirement already satisfied: opencv-python>=4.6.0 in /usr/local/lib/python3.11/dist-packages (from ultralytics) (4.11.0.86)\n",
            "Requirement already satisfied: pillow>=7.1.2 in /usr/local/lib/python3.11/dist-packages (from ultralytics) (11.2.1)\n",
            "Requirement already satisfied: pyyaml>=5.3.1 in /usr/local/lib/python3.11/dist-packages (from ultralytics) (6.0.2)\n",
            "Requirement already satisfied: requests>=2.23.0 in /usr/local/lib/python3.11/dist-packages (from ultralytics) (2.32.3)\n",
            "Requirement already satisfied: scipy>=1.4.1 in /usr/local/lib/python3.11/dist-packages (from ultralytics) (1.15.3)\n",
            "Requirement already satisfied: torch>=1.8.0 in /usr/local/lib/python3.11/dist-packages (from ultralytics) (2.6.0+cu124)\n",
            "Requirement already satisfied: torchvision>=0.9.0 in /usr/local/lib/python3.11/dist-packages (from ultralytics) (0.21.0+cu124)\n",
            "Requirement already satisfied: tqdm>=4.64.0 in /usr/local/lib/python3.11/dist-packages (from ultralytics) (4.67.1)\n",
            "Requirement already satisfied: psutil in /usr/local/lib/python3.11/dist-packages (from ultralytics) (5.9.5)\n",
            "Requirement already satisfied: py-cpuinfo in /usr/local/lib/python3.11/dist-packages (from ultralytics) (9.0.0)\n",
            "Requirement already satisfied: pandas>=1.1.4 in /usr/local/lib/python3.11/dist-packages (from ultralytics) (2.2.2)\n",
            "Requirement already satisfied: ultralytics-thop>=2.0.0 in /usr/local/lib/python3.11/dist-packages (from ultralytics) (2.0.14)\n",
            "Requirement already satisfied: contourpy>=1.0.1 in /usr/local/lib/python3.11/dist-packages (from matplotlib>=3.3.0->ultralytics) (1.3.2)\n",
            "Requirement already satisfied: cycler>=0.10 in /usr/local/lib/python3.11/dist-packages (from matplotlib>=3.3.0->ultralytics) (0.12.1)\n",
            "Requirement already satisfied: fonttools>=4.22.0 in /usr/local/lib/python3.11/dist-packages (from matplotlib>=3.3.0->ultralytics) (4.58.4)\n",
            "Requirement already satisfied: kiwisolver>=1.3.1 in /usr/local/lib/python3.11/dist-packages (from matplotlib>=3.3.0->ultralytics) (1.4.8)\n",
            "Requirement already satisfied: packaging>=20.0 in /usr/local/lib/python3.11/dist-packages (from matplotlib>=3.3.0->ultralytics) (24.2)\n",
            "Requirement already satisfied: pyparsing>=2.3.1 in /usr/local/lib/python3.11/dist-packages (from matplotlib>=3.3.0->ultralytics) (3.2.3)\n",
            "Requirement already satisfied: python-dateutil>=2.7 in /usr/local/lib/python3.11/dist-packages (from matplotlib>=3.3.0->ultralytics) (2.9.0.post0)\n",
            "Requirement already satisfied: pytz>=2020.1 in /usr/local/lib/python3.11/dist-packages (from pandas>=1.1.4->ultralytics) (2025.2)\n",
            "Requirement already satisfied: tzdata>=2022.7 in /usr/local/lib/python3.11/dist-packages (from pandas>=1.1.4->ultralytics) (2025.2)\n",
            "Requirement already satisfied: charset-normalizer<4,>=2 in /usr/local/lib/python3.11/dist-packages (from requests>=2.23.0->ultralytics) (3.4.2)\n",
            "Requirement already satisfied: idna<4,>=2.5 in /usr/local/lib/python3.11/dist-packages (from requests>=2.23.0->ultralytics) (3.7)\n",
            "Requirement already satisfied: urllib3<3,>=1.21.1 in /usr/local/lib/python3.11/dist-packages (from requests>=2.23.0->ultralytics) (2.4.0)\n",
            "Requirement already satisfied: certifi>=2017.4.17 in /usr/local/lib/python3.11/dist-packages (from requests>=2.23.0->ultralytics) (2025.6.15)\n",
            "Requirement already satisfied: filelock in /usr/local/lib/python3.11/dist-packages (from torch>=1.8.0->ultralytics) (3.18.0)\n",
            "Requirement already satisfied: typing-extensions>=4.10.0 in /usr/local/lib/python3.11/dist-packages (from torch>=1.8.0->ultralytics) (4.14.0)\n",
            "Requirement already satisfied: networkx in /usr/local/lib/python3.11/dist-packages (from torch>=1.8.0->ultralytics) (3.5)\n",
            "Requirement already satisfied: jinja2 in /usr/local/lib/python3.11/dist-packages (from torch>=1.8.0->ultralytics) (3.1.6)\n",
            "Requirement already satisfied: fsspec in /usr/local/lib/python3.11/dist-packages (from torch>=1.8.0->ultralytics) (2025.3.2)\n",
            "Requirement already satisfied: nvidia-cuda-nvrtc-cu12==12.4.127 in /usr/local/lib/python3.11/dist-packages (from torch>=1.8.0->ultralytics) (12.4.127)\n",
            "Requirement already satisfied: nvidia-cuda-runtime-cu12==12.4.127 in /usr/local/lib/python3.11/dist-packages (from torch>=1.8.0->ultralytics) (12.4.127)\n",
            "Requirement already satisfied: nvidia-cuda-cupti-cu12==12.4.127 in /usr/local/lib/python3.11/dist-packages (from torch>=1.8.0->ultralytics) (12.4.127)\n",
            "Requirement already satisfied: nvidia-cudnn-cu12==9.1.0.70 in /usr/local/lib/python3.11/dist-packages (from torch>=1.8.0->ultralytics) (9.1.0.70)\n",
            "Requirement already satisfied: nvidia-cublas-cu12==12.4.5.8 in /usr/local/lib/python3.11/dist-packages (from torch>=1.8.0->ultralytics) (12.4.5.8)\n",
            "Requirement already satisfied: nvidia-cufft-cu12==11.2.1.3 in /usr/local/lib/python3.11/dist-packages (from torch>=1.8.0->ultralytics) (11.2.1.3)\n",
            "Requirement already satisfied: nvidia-curand-cu12==10.3.5.147 in /usr/local/lib/python3.11/dist-packages (from torch>=1.8.0->ultralytics) (10.3.5.147)\n",
            "Requirement already satisfied: nvidia-cusolver-cu12==11.6.1.9 in /usr/local/lib/python3.11/dist-packages (from torch>=1.8.0->ultralytics) (11.6.1.9)\n",
            "Requirement already satisfied: nvidia-cusparse-cu12==12.3.1.170 in /usr/local/lib/python3.11/dist-packages (from torch>=1.8.0->ultralytics) (12.3.1.170)\n",
            "Requirement already satisfied: nvidia-cusparselt-cu12==0.6.2 in /usr/local/lib/python3.11/dist-packages (from torch>=1.8.0->ultralytics) (0.6.2)\n",
            "Requirement already satisfied: nvidia-nccl-cu12==2.21.5 in /usr/local/lib/python3.11/dist-packages (from torch>=1.8.0->ultralytics) (2.21.5)\n",
            "Requirement already satisfied: nvidia-nvtx-cu12==12.4.127 in /usr/local/lib/python3.11/dist-packages (from torch>=1.8.0->ultralytics) (12.4.127)\n",
            "Requirement already satisfied: nvidia-nvjitlink-cu12==12.4.127 in /usr/local/lib/python3.11/dist-packages (from torch>=1.8.0->ultralytics) (12.4.127)\n",
            "Requirement already satisfied: triton==3.2.0 in /usr/local/lib/python3.11/dist-packages (from torch>=1.8.0->ultralytics) (3.2.0)\n",
            "Requirement already satisfied: sympy==1.13.1 in /usr/local/lib/python3.11/dist-packages (from torch>=1.8.0->ultralytics) (1.13.1)\n",
            "Requirement already satisfied: mpmath<1.4,>=1.1.0 in /usr/local/lib/python3.11/dist-packages (from sympy==1.13.1->torch>=1.8.0->ultralytics) (1.3.0)\n",
            "Requirement already satisfied: six>=1.5 in /usr/local/lib/python3.11/dist-packages (from python-dateutil>=2.7->matplotlib>=3.3.0->ultralytics) (1.17.0)\n",
            "Requirement already satisfied: MarkupSafe>=2.0 in /usr/local/lib/python3.11/dist-packages (from jinja2->torch>=1.8.0->ultralytics) (3.0.2)\n"
          ]
        }
      ]
    },
    {
      "cell_type": "code",
      "source": [
        "from ultralytics import YOLO"
      ],
      "metadata": {
        "id": "kNgo6WD-anKV"
      },
      "execution_count": 25,
      "outputs": []
    },
    {
      "cell_type": "code",
      "source": [
        "from roboflow import Roboflow\n",
        "\n",
        "rf = Roboflow(api_key=\"w3NP33AZbkAxWz037QG2\")\n",
        "project = rf.workspace(\"pu-txenk\").project(\"second-issh2\")  # 프로젝트 이름 확인 필요\n",
        "version = project.version(1)\n",
        "dataset = version.download(\"folder\")"
      ],
      "metadata": {
        "colab": {
          "base_uri": "https://localhost:8080/"
        },
        "collapsed": true,
        "id": "3HhfeSq8bFHj",
        "outputId": "16fc1aa7-62e2-48d8-c1cd-5f7ef7fc3d51"
      },
      "execution_count": 28,
      "outputs": [
        {
          "output_type": "stream",
          "name": "stdout",
          "text": [
            "loading Roboflow workspace...\n",
            "loading Roboflow project...\n"
          ]
        }
      ]
    },
    {
      "cell_type": "code",
      "source": [
        "dataset = version.download(\"folder\")\n",
        "print(dataset.location)"
      ],
      "metadata": {
        "colab": {
          "base_uri": "https://localhost:8080/"
        },
        "id": "g26_UQNzcGTO",
        "outputId": "8aa1a83d-932d-4459-c5a0-abe9c9c3f8c2"
      },
      "execution_count": 29,
      "outputs": [
        {
          "output_type": "stream",
          "name": "stdout",
          "text": [
            "/content/second-1\n"
          ]
        }
      ]
    },
    {
      "cell_type": "code",
      "source": [
        "import os\n",
        "\n",
        "for phase in ['train', 'valid']:\n",
        "    phase_path = os.path.join(\"/content/second-2\", phase)\n",
        "    print(f\"\\n📁 {phase.upper()} 폴더:\")\n",
        "    if not os.path.exists(phase_path):\n",
        "        print(\"❌ 존재하지 않음\")\n",
        "    else:\n",
        "        for cls in os.listdir(phase_path):\n",
        "            cls_path = os.path.join(phase_path, cls)\n",
        "            num_images = len(os.listdir(cls_path))\n",
        "            print(f\"  - {cls}: {num_images} images\")"
      ],
      "metadata": {
        "colab": {
          "base_uri": "https://localhost:8080/"
        },
        "collapsed": true,
        "id": "6FjL1lGsccrr",
        "outputId": "d963bb7f-2d52-4717-a2a6-adb5013dc956"
      },
      "execution_count": 30,
      "outputs": [
        {
          "output_type": "stream",
          "name": "stdout",
          "text": [
            "\n",
            "📁 TRAIN 폴더:\n",
            "  - maidenhair tree: 35 images\n",
            "  - green plum tree: 35 images\n",
            "  - pine tree: 35 images\n",
            "  - peach tree: 35 images\n",
            "  - maple tree: 35 images\n",
            "  - mulberry tree: 35 images\n",
            "  - pear tree: 35 images\n",
            "  - persimmon tree: 35 images\n",
            "  - plum tree: 35 images\n",
            "  - jujube tree: 35 images\n",
            "\n",
            "📁 VALID 폴더:\n",
            "  - maidenhair tree: 10 images\n",
            "  - green plum tree: 10 images\n",
            "  - pine tree: 10 images\n",
            "  - peach tree: 10 images\n",
            "  - maple tree: 10 images\n",
            "  - mulberry tree: 10 images\n",
            "  - pear tree: 10 images\n",
            "  - persimmon tree: 10 images\n",
            "  - plum tree: 10 images\n",
            "  - jujube tree: 10 images\n"
          ]
        }
      ]
    },
    {
      "cell_type": "code",
      "source": [
        "from ultralytics import YOLO\n",
        "\n",
        "model = YOLO(\"yolov8n-cls.pt\")  # 또는 yolov8s-cls.pt 등\n",
        "\n",
        "model.train(\n",
        "    data=\"/content/second-2\",  # dataset.location으로 바꿔도 OK\n",
        "    epochs=50,\n",
        "    imgsz=224,\n",
        "    batch=32\n",
        ")"
      ],
      "metadata": {
        "colab": {
          "base_uri": "https://localhost:8080/"
        },
        "collapsed": true,
        "id": "dnNOYp3NcgMh",
        "outputId": "ce3e8eba-3bab-4773-b2f7-5753e6f0c400"
      },
      "execution_count": 31,
      "outputs": [
        {
          "output_type": "stream",
          "name": "stdout",
          "text": [
            "Ultralytics 8.3.157 🚀 Python-3.11.13 torch-2.6.0+cu124 CPU (AMD EPYC 7B12)\n",
            "\u001b[34m\u001b[1mengine/trainer: \u001b[0magnostic_nms=False, amp=True, augment=False, auto_augment=randaugment, batch=32, bgr=0.0, box=7.5, cache=False, cfg=None, classes=None, close_mosaic=10, cls=0.5, conf=None, copy_paste=0.0, copy_paste_mode=flip, cos_lr=False, cutmix=0.0, data=/content/second-2, degrees=0.0, deterministic=True, device=cpu, dfl=1.5, dnn=False, dropout=0.0, dynamic=False, embed=None, epochs=50, erasing=0.4, exist_ok=False, fliplr=0.5, flipud=0.0, format=torchscript, fraction=1.0, freeze=None, half=False, hsv_h=0.015, hsv_s=0.7, hsv_v=0.4, imgsz=224, int8=False, iou=0.7, keras=False, kobj=1.0, line_width=None, lr0=0.01, lrf=0.01, mask_ratio=4, max_det=300, mixup=0.0, mode=train, model=yolov8n-cls.pt, momentum=0.937, mosaic=1.0, multi_scale=False, name=train4, nbs=64, nms=False, opset=None, optimize=False, optimizer=auto, overlap_mask=True, patience=100, perspective=0.0, plots=True, pose=12.0, pretrained=True, profile=False, project=None, rect=False, resume=False, retina_masks=False, save=True, save_conf=False, save_crop=False, save_dir=runs/classify/train4, save_frames=False, save_json=False, save_period=-1, save_txt=False, scale=0.5, seed=0, shear=0.0, show=False, show_boxes=True, show_conf=True, show_labels=True, simplify=True, single_cls=False, source=None, split=val, stream_buffer=False, task=classify, time=None, tracker=botsort.yaml, translate=0.1, val=True, verbose=True, vid_stride=1, visualize=False, warmup_bias_lr=0.1, warmup_epochs=3.0, warmup_momentum=0.8, weight_decay=0.0005, workers=8, workspace=None\n",
            "\u001b[34m\u001b[1mtrain:\u001b[0m /content/second-2/train... found 350 images in 10 classes ✅ \n",
            "\u001b[34m\u001b[1mval:\u001b[0m None...\n",
            "\u001b[34m\u001b[1mtest:\u001b[0m /content/second-2/test... found 50 images in 10 classes ✅ \n",
            "Overriding model.yaml nc=1000 with nc=10\n",
            "\n",
            "                   from  n    params  module                                       arguments                     \n",
            "  0                  -1  1       464  ultralytics.nn.modules.conv.Conv             [3, 16, 3, 2]                 \n",
            "  1                  -1  1      4672  ultralytics.nn.modules.conv.Conv             [16, 32, 3, 2]                \n",
            "  2                  -1  1      7360  ultralytics.nn.modules.block.C2f             [32, 32, 1, True]             \n",
            "  3                  -1  1     18560  ultralytics.nn.modules.conv.Conv             [32, 64, 3, 2]                \n",
            "  4                  -1  2     49664  ultralytics.nn.modules.block.C2f             [64, 64, 2, True]             \n",
            "  5                  -1  1     73984  ultralytics.nn.modules.conv.Conv             [64, 128, 3, 2]               \n",
            "  6                  -1  2    197632  ultralytics.nn.modules.block.C2f             [128, 128, 2, True]           \n",
            "  7                  -1  1    295424  ultralytics.nn.modules.conv.Conv             [128, 256, 3, 2]              \n",
            "  8                  -1  1    460288  ultralytics.nn.modules.block.C2f             [256, 256, 1, True]           \n",
            "  9                  -1  1    343050  ultralytics.nn.modules.head.Classify         [256, 10]                     \n",
            "YOLOv8n-cls summary: 56 layers, 1,451,098 parameters, 1,451,098 gradients, 3.4 GFLOPs\n",
            "Transferred 156/158 items from pretrained weights\n",
            "\u001b[34m\u001b[1mtrain: \u001b[0mFast image access ✅ (ping: 0.0±0.0 ms, read: 1373.2±685.0 MB/s, size: 73.7 KB)\n"
          ]
        },
        {
          "output_type": "stream",
          "name": "stderr",
          "text": [
            "\u001b[34m\u001b[1mtrain: \u001b[0mScanning /content/second-2/train... 350 images, 0 corrupt: 100%|██████████| 350/350 [00:00<00:00, 3745.71it/s]"
          ]
        },
        {
          "output_type": "stream",
          "name": "stdout",
          "text": [
            "\u001b[34m\u001b[1mtrain: \u001b[0mNew cache created: /content/second-2/train.cache\n",
            "\u001b[34m\u001b[1mval: \u001b[0mFast image access ✅ (ping: 0.0±0.0 ms, read: 846.8±283.0 MB/s, size: 65.5 KB)\n"
          ]
        },
        {
          "output_type": "stream",
          "name": "stderr",
          "text": [
            "\n",
            "\u001b[34m\u001b[1mval: \u001b[0mScanning /content/second-2/test... 50 images, 0 corrupt: 100%|██████████| 50/50 [00:00<00:00, 5593.60it/s]"
          ]
        },
        {
          "output_type": "stream",
          "name": "stdout",
          "text": [
            "\u001b[34m\u001b[1mval: \u001b[0mNew cache created: /content/second-2/test.cache\n"
          ]
        },
        {
          "output_type": "stream",
          "name": "stderr",
          "text": [
            "\n"
          ]
        },
        {
          "output_type": "stream",
          "name": "stdout",
          "text": [
            "\u001b[34m\u001b[1moptimizer:\u001b[0m 'optimizer=auto' found, ignoring 'lr0=0.01' and 'momentum=0.937' and determining best 'optimizer', 'lr0' and 'momentum' automatically... \n",
            "\u001b[34m\u001b[1moptimizer:\u001b[0m AdamW(lr=0.000714, momentum=0.9) with parameter groups 26 weight(decay=0.0), 27 weight(decay=0.0005), 27 bias(decay=0.0)\n",
            "Image sizes 224 train, 224 val\n",
            "Using 0 dataloader workers\n",
            "Logging results to \u001b[1mruns/classify/train4\u001b[0m\n",
            "Starting training for 50 epochs...\n",
            "\n",
            "      Epoch    GPU_mem       loss  Instances       Size\n"
          ]
        },
        {
          "output_type": "stream",
          "name": "stderr",
          "text": [
            "       1/50         0G      2.349         30        224: 100%|██████████| 11/11 [00:17<00:00,  1.62s/it]\n",
            "               classes   top1_acc   top5_acc: 100%|██████████| 1/1 [00:00<00:00,  1.38it/s]"
          ]
        },
        {
          "output_type": "stream",
          "name": "stdout",
          "text": [
            "                   all       0.14       0.46\n",
            "\n",
            "      Epoch    GPU_mem       loss  Instances       Size\n"
          ]
        },
        {
          "output_type": "stream",
          "name": "stderr",
          "text": [
            "\n",
            "       2/50         0G      2.246         30        224: 100%|██████████| 11/11 [00:13<00:00,  1.22s/it]\n",
            "               classes   top1_acc   top5_acc: 100%|██████████| 1/1 [00:00<00:00,  1.35it/s]"
          ]
        },
        {
          "output_type": "stream",
          "name": "stdout",
          "text": [
            "                   all       0.18       0.66\n",
            "\n",
            "      Epoch    GPU_mem       loss  Instances       Size\n"
          ]
        },
        {
          "output_type": "stream",
          "name": "stderr",
          "text": [
            "\n",
            "       3/50         0G      2.037         30        224: 100%|██████████| 11/11 [00:13<00:00,  1.22s/it]\n",
            "               classes   top1_acc   top5_acc: 100%|██████████| 1/1 [00:00<00:00,  1.30it/s]"
          ]
        },
        {
          "output_type": "stream",
          "name": "stdout",
          "text": [
            "                   all        0.4        0.8\n",
            "\n",
            "      Epoch    GPU_mem       loss  Instances       Size\n"
          ]
        },
        {
          "output_type": "stream",
          "name": "stderr",
          "text": [
            "\n",
            "       4/50         0G      1.752         30        224: 100%|██████████| 11/11 [00:13<00:00,  1.24s/it]\n",
            "               classes   top1_acc   top5_acc: 100%|██████████| 1/1 [00:00<00:00,  1.35it/s]"
          ]
        },
        {
          "output_type": "stream",
          "name": "stdout",
          "text": [
            "                   all       0.56       0.94\n",
            "\n",
            "      Epoch    GPU_mem       loss  Instances       Size\n"
          ]
        },
        {
          "output_type": "stream",
          "name": "stderr",
          "text": [
            "\n",
            "       5/50         0G      1.461         30        224: 100%|██████████| 11/11 [00:14<00:00,  1.28s/it]\n",
            "               classes   top1_acc   top5_acc: 100%|██████████| 1/1 [00:00<00:00,  1.40it/s]"
          ]
        },
        {
          "output_type": "stream",
          "name": "stdout",
          "text": [
            "                   all        0.6       0.94\n",
            "\n",
            "      Epoch    GPU_mem       loss  Instances       Size\n"
          ]
        },
        {
          "output_type": "stream",
          "name": "stderr",
          "text": [
            "\n",
            "       6/50         0G      1.263         30        224: 100%|██████████| 11/11 [00:13<00:00,  1.19s/it]\n",
            "               classes   top1_acc   top5_acc: 100%|██████████| 1/1 [00:00<00:00,  1.24it/s]"
          ]
        },
        {
          "output_type": "stream",
          "name": "stdout",
          "text": [
            "                   all       0.68       0.92\n",
            "\n",
            "      Epoch    GPU_mem       loss  Instances       Size\n"
          ]
        },
        {
          "output_type": "stream",
          "name": "stderr",
          "text": [
            "\n",
            "       7/50         0G      1.024         30        224: 100%|██████████| 11/11 [00:13<00:00,  1.24s/it]\n",
            "               classes   top1_acc   top5_acc: 100%|██████████| 1/1 [00:00<00:00,  1.26it/s]"
          ]
        },
        {
          "output_type": "stream",
          "name": "stdout",
          "text": [
            "                   all       0.68       0.92\n",
            "\n",
            "      Epoch    GPU_mem       loss  Instances       Size\n"
          ]
        },
        {
          "output_type": "stream",
          "name": "stderr",
          "text": [
            "\n",
            "       8/50         0G      0.816         30        224: 100%|██████████| 11/11 [00:13<00:00,  1.22s/it]\n",
            "               classes   top1_acc   top5_acc: 100%|██████████| 1/1 [00:00<00:00,  1.44it/s]"
          ]
        },
        {
          "output_type": "stream",
          "name": "stdout",
          "text": [
            "                   all       0.76       0.96\n",
            "\n",
            "      Epoch    GPU_mem       loss  Instances       Size\n"
          ]
        },
        {
          "output_type": "stream",
          "name": "stderr",
          "text": [
            "\n",
            "       9/50         0G     0.6385         30        224: 100%|██████████| 11/11 [00:13<00:00,  1.19s/it]\n",
            "               classes   top1_acc   top5_acc: 100%|██████████| 1/1 [00:00<00:00,  1.27it/s]"
          ]
        },
        {
          "output_type": "stream",
          "name": "stdout",
          "text": [
            "                   all       0.78       0.98\n",
            "\n",
            "      Epoch    GPU_mem       loss  Instances       Size\n"
          ]
        },
        {
          "output_type": "stream",
          "name": "stderr",
          "text": [
            "\n",
            "      10/50         0G     0.5391         30        224: 100%|██████████| 11/11 [00:13<00:00,  1.18s/it]\n",
            "               classes   top1_acc   top5_acc: 100%|██████████| 1/1 [00:00<00:00,  1.28it/s]"
          ]
        },
        {
          "output_type": "stream",
          "name": "stdout",
          "text": [
            "                   all        0.8       0.98\n",
            "\n",
            "      Epoch    GPU_mem       loss  Instances       Size\n"
          ]
        },
        {
          "output_type": "stream",
          "name": "stderr",
          "text": [
            "\n",
            "      11/50         0G     0.4162         30        224: 100%|██████████| 11/11 [00:13<00:00,  1.19s/it]\n",
            "               classes   top1_acc   top5_acc: 100%|██████████| 1/1 [00:00<00:00,  1.40it/s]"
          ]
        },
        {
          "output_type": "stream",
          "name": "stdout",
          "text": [
            "                   all       0.82       0.98\n",
            "\n",
            "      Epoch    GPU_mem       loss  Instances       Size\n"
          ]
        },
        {
          "output_type": "stream",
          "name": "stderr",
          "text": [
            "\n",
            "      12/50         0G     0.3719         30        224: 100%|██████████| 11/11 [00:13<00:00,  1.20s/it]\n",
            "               classes   top1_acc   top5_acc: 100%|██████████| 1/1 [00:00<00:00,  1.27it/s]"
          ]
        },
        {
          "output_type": "stream",
          "name": "stdout",
          "text": [
            "                   all        0.8       0.98\n",
            "\n",
            "      Epoch    GPU_mem       loss  Instances       Size\n"
          ]
        },
        {
          "output_type": "stream",
          "name": "stderr",
          "text": [
            "\n",
            "      13/50         0G     0.2778         30        224: 100%|██████████| 11/11 [00:12<00:00,  1.18s/it]\n",
            "               classes   top1_acc   top5_acc: 100%|██████████| 1/1 [00:00<00:00,  1.37it/s]"
          ]
        },
        {
          "output_type": "stream",
          "name": "stdout",
          "text": [
            "                   all       0.84       0.98\n",
            "\n",
            "      Epoch    GPU_mem       loss  Instances       Size\n"
          ]
        },
        {
          "output_type": "stream",
          "name": "stderr",
          "text": [
            "\n",
            "      14/50         0G     0.2809         30        224: 100%|██████████| 11/11 [00:12<00:00,  1.18s/it]\n",
            "               classes   top1_acc   top5_acc: 100%|██████████| 1/1 [00:00<00:00,  1.33it/s]"
          ]
        },
        {
          "output_type": "stream",
          "name": "stdout",
          "text": [
            "                   all       0.84       0.96\n",
            "\n",
            "      Epoch    GPU_mem       loss  Instances       Size\n"
          ]
        },
        {
          "output_type": "stream",
          "name": "stderr",
          "text": [
            "\n",
            "      15/50         0G     0.2312         30        224: 100%|██████████| 11/11 [00:12<00:00,  1.17s/it]\n",
            "               classes   top1_acc   top5_acc: 100%|██████████| 1/1 [00:00<00:00,  1.37it/s]"
          ]
        },
        {
          "output_type": "stream",
          "name": "stdout",
          "text": [
            "                   all       0.82       0.96\n",
            "\n",
            "      Epoch    GPU_mem       loss  Instances       Size\n"
          ]
        },
        {
          "output_type": "stream",
          "name": "stderr",
          "text": [
            "\n",
            "      16/50         0G     0.2061         30        224: 100%|██████████| 11/11 [00:13<00:00,  1.19s/it]\n",
            "               classes   top1_acc   top5_acc: 100%|██████████| 1/1 [00:00<00:00,  1.22it/s]"
          ]
        },
        {
          "output_type": "stream",
          "name": "stdout",
          "text": [
            "                   all       0.78       0.98\n",
            "\n",
            "      Epoch    GPU_mem       loss  Instances       Size\n"
          ]
        },
        {
          "output_type": "stream",
          "name": "stderr",
          "text": [
            "\n",
            "      17/50         0G     0.1653         30        224: 100%|██████████| 11/11 [00:13<00:00,  1.19s/it]\n",
            "               classes   top1_acc   top5_acc: 100%|██████████| 1/1 [00:00<00:00,  1.42it/s]"
          ]
        },
        {
          "output_type": "stream",
          "name": "stdout",
          "text": [
            "                   all       0.82       0.96\n",
            "\n",
            "      Epoch    GPU_mem       loss  Instances       Size\n"
          ]
        },
        {
          "output_type": "stream",
          "name": "stderr",
          "text": [
            "\n",
            "      18/50         0G     0.1654         30        224: 100%|██████████| 11/11 [00:12<00:00,  1.16s/it]\n",
            "               classes   top1_acc   top5_acc: 100%|██████████| 1/1 [00:00<00:00,  1.41it/s]"
          ]
        },
        {
          "output_type": "stream",
          "name": "stdout",
          "text": [
            "                   all       0.78       0.96\n",
            "\n",
            "      Epoch    GPU_mem       loss  Instances       Size\n"
          ]
        },
        {
          "output_type": "stream",
          "name": "stderr",
          "text": [
            "\n",
            "      19/50         0G     0.1219         30        224: 100%|██████████| 11/11 [00:12<00:00,  1.18s/it]\n",
            "               classes   top1_acc   top5_acc: 100%|██████████| 1/1 [00:00<00:00,  1.32it/s]"
          ]
        },
        {
          "output_type": "stream",
          "name": "stdout",
          "text": [
            "                   all       0.82       0.96\n",
            "\n",
            "      Epoch    GPU_mem       loss  Instances       Size\n"
          ]
        },
        {
          "output_type": "stream",
          "name": "stderr",
          "text": [
            "\n",
            "      20/50         0G     0.1641         30        224: 100%|██████████| 11/11 [00:12<00:00,  1.17s/it]\n",
            "               classes   top1_acc   top5_acc: 100%|██████████| 1/1 [00:00<00:00,  1.37it/s]"
          ]
        },
        {
          "output_type": "stream",
          "name": "stdout",
          "text": [
            "                   all       0.76       0.98\n",
            "\n",
            "      Epoch    GPU_mem       loss  Instances       Size\n"
          ]
        },
        {
          "output_type": "stream",
          "name": "stderr",
          "text": [
            "\n",
            "      21/50         0G     0.1289         30        224: 100%|██████████| 11/11 [00:13<00:00,  1.20s/it]\n",
            "               classes   top1_acc   top5_acc: 100%|██████████| 1/1 [00:00<00:00,  1.08it/s]"
          ]
        },
        {
          "output_type": "stream",
          "name": "stdout",
          "text": [
            "                   all       0.76       0.96\n",
            "\n",
            "      Epoch    GPU_mem       loss  Instances       Size\n"
          ]
        },
        {
          "output_type": "stream",
          "name": "stderr",
          "text": [
            "\n",
            "      22/50         0G     0.1035         30        224: 100%|██████████| 11/11 [00:12<00:00,  1.16s/it]\n",
            "               classes   top1_acc   top5_acc: 100%|██████████| 1/1 [00:00<00:00,  1.47it/s]"
          ]
        },
        {
          "output_type": "stream",
          "name": "stdout",
          "text": [
            "                   all        0.8       0.96\n",
            "\n",
            "      Epoch    GPU_mem       loss  Instances       Size\n"
          ]
        },
        {
          "output_type": "stream",
          "name": "stderr",
          "text": [
            "\n",
            "      23/50         0G    0.09322         30        224: 100%|██████████| 11/11 [00:12<00:00,  1.17s/it]\n",
            "               classes   top1_acc   top5_acc: 100%|██████████| 1/1 [00:00<00:00,  1.42it/s]"
          ]
        },
        {
          "output_type": "stream",
          "name": "stdout",
          "text": [
            "                   all       0.84       0.96\n",
            "\n",
            "      Epoch    GPU_mem       loss  Instances       Size\n"
          ]
        },
        {
          "output_type": "stream",
          "name": "stderr",
          "text": [
            "\n",
            "      24/50         0G      0.128         30        224: 100%|██████████| 11/11 [00:12<00:00,  1.17s/it]\n",
            "               classes   top1_acc   top5_acc: 100%|██████████| 1/1 [00:00<00:00,  1.38it/s]"
          ]
        },
        {
          "output_type": "stream",
          "name": "stdout",
          "text": [
            "                   all       0.82       0.96\n",
            "\n",
            "      Epoch    GPU_mem       loss  Instances       Size\n"
          ]
        },
        {
          "output_type": "stream",
          "name": "stderr",
          "text": [
            "\n",
            "      25/50         0G    0.09137         30        224: 100%|██████████| 11/11 [00:13<00:00,  1.18s/it]\n",
            "               classes   top1_acc   top5_acc: 100%|██████████| 1/1 [00:00<00:00,  1.40it/s]"
          ]
        },
        {
          "output_type": "stream",
          "name": "stdout",
          "text": [
            "                   all        0.8       0.96\n",
            "\n",
            "      Epoch    GPU_mem       loss  Instances       Size\n"
          ]
        },
        {
          "output_type": "stream",
          "name": "stderr",
          "text": [
            "\n",
            "      26/50         0G    0.08548         30        224: 100%|██████████| 11/11 [00:13<00:00,  1.19s/it]\n",
            "               classes   top1_acc   top5_acc: 100%|██████████| 1/1 [00:00<00:00,  1.43it/s]"
          ]
        },
        {
          "output_type": "stream",
          "name": "stdout",
          "text": [
            "                   all        0.8       0.98\n",
            "\n",
            "      Epoch    GPU_mem       loss  Instances       Size\n"
          ]
        },
        {
          "output_type": "stream",
          "name": "stderr",
          "text": [
            "\n",
            "      27/50         0G     0.1204         30        224: 100%|██████████| 11/11 [00:12<00:00,  1.18s/it]\n",
            "               classes   top1_acc   top5_acc: 100%|██████████| 1/1 [00:00<00:00,  1.33it/s]"
          ]
        },
        {
          "output_type": "stream",
          "name": "stdout",
          "text": [
            "                   all       0.78       0.96\n",
            "\n",
            "      Epoch    GPU_mem       loss  Instances       Size\n"
          ]
        },
        {
          "output_type": "stream",
          "name": "stderr",
          "text": [
            "\n",
            "      28/50         0G    0.07604         30        224: 100%|██████████| 11/11 [00:12<00:00,  1.18s/it]\n",
            "               classes   top1_acc   top5_acc: 100%|██████████| 1/1 [00:00<00:00,  1.42it/s]"
          ]
        },
        {
          "output_type": "stream",
          "name": "stdout",
          "text": [
            "                   all       0.82       0.96\n",
            "\n",
            "      Epoch    GPU_mem       loss  Instances       Size\n"
          ]
        },
        {
          "output_type": "stream",
          "name": "stderr",
          "text": [
            "\n",
            "      29/50         0G    0.09256         30        224: 100%|██████████| 11/11 [00:12<00:00,  1.17s/it]\n",
            "               classes   top1_acc   top5_acc: 100%|██████████| 1/1 [00:00<00:00,  1.39it/s]"
          ]
        },
        {
          "output_type": "stream",
          "name": "stdout",
          "text": [
            "                   all       0.84       0.94\n",
            "\n",
            "      Epoch    GPU_mem       loss  Instances       Size\n"
          ]
        },
        {
          "output_type": "stream",
          "name": "stderr",
          "text": [
            "\n",
            "      30/50         0G     0.1075         30        224: 100%|██████████| 11/11 [00:13<00:00,  1.20s/it]\n",
            "               classes   top1_acc   top5_acc: 100%|██████████| 1/1 [00:00<00:00,  1.20it/s]"
          ]
        },
        {
          "output_type": "stream",
          "name": "stdout",
          "text": [
            "                   all       0.82       0.94\n",
            "\n",
            "      Epoch    GPU_mem       loss  Instances       Size\n"
          ]
        },
        {
          "output_type": "stream",
          "name": "stderr",
          "text": [
            "\n",
            "      31/50         0G     0.0865         30        224: 100%|██████████| 11/11 [00:13<00:00,  1.20s/it]\n",
            "               classes   top1_acc   top5_acc: 100%|██████████| 1/1 [00:00<00:00,  1.43it/s]"
          ]
        },
        {
          "output_type": "stream",
          "name": "stdout",
          "text": [
            "                   all       0.82       0.94\n",
            "\n",
            "      Epoch    GPU_mem       loss  Instances       Size\n"
          ]
        },
        {
          "output_type": "stream",
          "name": "stderr",
          "text": [
            "\n",
            "      32/50         0G     0.1113         30        224: 100%|██████████| 11/11 [00:12<00:00,  1.17s/it]\n",
            "               classes   top1_acc   top5_acc: 100%|██████████| 1/1 [00:00<00:00,  1.44it/s]"
          ]
        },
        {
          "output_type": "stream",
          "name": "stdout",
          "text": [
            "                   all       0.82       0.94\n",
            "\n",
            "      Epoch    GPU_mem       loss  Instances       Size\n"
          ]
        },
        {
          "output_type": "stream",
          "name": "stderr",
          "text": [
            "\n",
            "      33/50         0G     0.0731         30        224: 100%|██████████| 11/11 [00:12<00:00,  1.16s/it]\n",
            "               classes   top1_acc   top5_acc: 100%|██████████| 1/1 [00:00<00:00,  1.44it/s]"
          ]
        },
        {
          "output_type": "stream",
          "name": "stdout",
          "text": [
            "                   all       0.82       0.94\n",
            "\n",
            "      Epoch    GPU_mem       loss  Instances       Size\n"
          ]
        },
        {
          "output_type": "stream",
          "name": "stderr",
          "text": [
            "\n",
            "      34/50         0G    0.09412         30        224: 100%|██████████| 11/11 [00:12<00:00,  1.17s/it]\n",
            "               classes   top1_acc   top5_acc: 100%|██████████| 1/1 [00:00<00:00,  1.47it/s]"
          ]
        },
        {
          "output_type": "stream",
          "name": "stdout",
          "text": [
            "                   all       0.82       0.94\n",
            "\n",
            "      Epoch    GPU_mem       loss  Instances       Size\n"
          ]
        },
        {
          "output_type": "stream",
          "name": "stderr",
          "text": [
            "\n",
            "      35/50         0G    0.07588         30        224: 100%|██████████| 11/11 [00:12<00:00,  1.17s/it]\n",
            "               classes   top1_acc   top5_acc: 100%|██████████| 1/1 [00:00<00:00,  1.09it/s]"
          ]
        },
        {
          "output_type": "stream",
          "name": "stdout",
          "text": [
            "                   all       0.82       0.96\n",
            "\n",
            "      Epoch    GPU_mem       loss  Instances       Size\n"
          ]
        },
        {
          "output_type": "stream",
          "name": "stderr",
          "text": [
            "\n",
            "      36/50         0G    0.08336         30        224: 100%|██████████| 11/11 [00:12<00:00,  1.17s/it]\n",
            "               classes   top1_acc   top5_acc: 100%|██████████| 1/1 [00:00<00:00,  1.31it/s]"
          ]
        },
        {
          "output_type": "stream",
          "name": "stdout",
          "text": [
            "                   all       0.82       0.96\n",
            "\n",
            "      Epoch    GPU_mem       loss  Instances       Size\n"
          ]
        },
        {
          "output_type": "stream",
          "name": "stderr",
          "text": [
            "\n",
            "      37/50         0G    0.09681         30        224: 100%|██████████| 11/11 [00:13<00:00,  1.19s/it]\n",
            "               classes   top1_acc   top5_acc: 100%|██████████| 1/1 [00:00<00:00,  1.47it/s]"
          ]
        },
        {
          "output_type": "stream",
          "name": "stdout",
          "text": [
            "                   all       0.82       0.96\n",
            "\n",
            "      Epoch    GPU_mem       loss  Instances       Size\n"
          ]
        },
        {
          "output_type": "stream",
          "name": "stderr",
          "text": [
            "\n",
            "      38/50         0G    0.07555         30        224: 100%|██████████| 11/11 [00:12<00:00,  1.17s/it]\n",
            "               classes   top1_acc   top5_acc: 100%|██████████| 1/1 [00:00<00:00,  1.42it/s]"
          ]
        },
        {
          "output_type": "stream",
          "name": "stdout",
          "text": [
            "                   all       0.82       0.96\n",
            "\n",
            "      Epoch    GPU_mem       loss  Instances       Size\n"
          ]
        },
        {
          "output_type": "stream",
          "name": "stderr",
          "text": [
            "\n",
            "      39/50         0G    0.05693         30        224: 100%|██████████| 11/11 [00:12<00:00,  1.17s/it]\n",
            "               classes   top1_acc   top5_acc: 100%|██████████| 1/1 [00:00<00:00,  1.37it/s]"
          ]
        },
        {
          "output_type": "stream",
          "name": "stdout",
          "text": [
            "                   all       0.82       0.96\n",
            "\n",
            "      Epoch    GPU_mem       loss  Instances       Size\n"
          ]
        },
        {
          "output_type": "stream",
          "name": "stderr",
          "text": [
            "\n",
            "      40/50         0G    0.06568         30        224: 100%|██████████| 11/11 [00:13<00:00,  1.18s/it]\n",
            "               classes   top1_acc   top5_acc: 100%|██████████| 1/1 [00:00<00:00,  1.11it/s]"
          ]
        },
        {
          "output_type": "stream",
          "name": "stdout",
          "text": [
            "                   all       0.82       0.96\n",
            "\n",
            "      Epoch    GPU_mem       loss  Instances       Size\n"
          ]
        },
        {
          "output_type": "stream",
          "name": "stderr",
          "text": [
            "\n",
            "      41/50         0G    0.06043         30        224: 100%|██████████| 11/11 [00:12<00:00,  1.18s/it]\n",
            "               classes   top1_acc   top5_acc: 100%|██████████| 1/1 [00:00<00:00,  1.35it/s]"
          ]
        },
        {
          "output_type": "stream",
          "name": "stdout",
          "text": [
            "                   all        0.8       0.96\n",
            "\n",
            "      Epoch    GPU_mem       loss  Instances       Size\n"
          ]
        },
        {
          "output_type": "stream",
          "name": "stderr",
          "text": [
            "\n",
            "      42/50         0G    0.04997         30        224: 100%|██████████| 11/11 [00:12<00:00,  1.17s/it]\n",
            "               classes   top1_acc   top5_acc: 100%|██████████| 1/1 [00:00<00:00,  1.36it/s]"
          ]
        },
        {
          "output_type": "stream",
          "name": "stdout",
          "text": [
            "                   all       0.78       0.96\n",
            "\n",
            "      Epoch    GPU_mem       loss  Instances       Size\n"
          ]
        },
        {
          "output_type": "stream",
          "name": "stderr",
          "text": [
            "\n",
            "      43/50         0G    0.05447         30        224: 100%|██████████| 11/11 [00:12<00:00,  1.17s/it]\n",
            "               classes   top1_acc   top5_acc: 100%|██████████| 1/1 [00:00<00:00,  1.49it/s]"
          ]
        },
        {
          "output_type": "stream",
          "name": "stdout",
          "text": [
            "                   all        0.8       0.96\n",
            "\n",
            "      Epoch    GPU_mem       loss  Instances       Size\n"
          ]
        },
        {
          "output_type": "stream",
          "name": "stderr",
          "text": [
            "\n",
            "      44/50         0G    0.04379         30        224: 100%|██████████| 11/11 [00:12<00:00,  1.16s/it]\n",
            "               classes   top1_acc   top5_acc: 100%|██████████| 1/1 [00:00<00:00,  1.31it/s]"
          ]
        },
        {
          "output_type": "stream",
          "name": "stdout",
          "text": [
            "                   all        0.8       0.96\n",
            "\n",
            "      Epoch    GPU_mem       loss  Instances       Size\n"
          ]
        },
        {
          "output_type": "stream",
          "name": "stderr",
          "text": [
            "\n",
            "      45/50         0G    0.05763         30        224: 100%|██████████| 11/11 [00:13<00:00,  1.21s/it]\n",
            "               classes   top1_acc   top5_acc: 100%|██████████| 1/1 [00:00<00:00,  1.43it/s]"
          ]
        },
        {
          "output_type": "stream",
          "name": "stdout",
          "text": [
            "                   all        0.8       0.96\n",
            "\n",
            "      Epoch    GPU_mem       loss  Instances       Size\n"
          ]
        },
        {
          "output_type": "stream",
          "name": "stderr",
          "text": [
            "\n",
            "      46/50         0G    0.05606         30        224: 100%|██████████| 11/11 [00:12<00:00,  1.15s/it]\n",
            "               classes   top1_acc   top5_acc: 100%|██████████| 1/1 [00:00<00:00,  1.45it/s]"
          ]
        },
        {
          "output_type": "stream",
          "name": "stdout",
          "text": [
            "                   all        0.8       0.96\n",
            "\n",
            "      Epoch    GPU_mem       loss  Instances       Size\n"
          ]
        },
        {
          "output_type": "stream",
          "name": "stderr",
          "text": [
            "\n",
            "      47/50         0G    0.07345         30        224: 100%|██████████| 11/11 [00:12<00:00,  1.17s/it]\n",
            "               classes   top1_acc   top5_acc: 100%|██████████| 1/1 [00:00<00:00,  1.44it/s]"
          ]
        },
        {
          "output_type": "stream",
          "name": "stdout",
          "text": [
            "                   all        0.8       0.96\n",
            "\n",
            "      Epoch    GPU_mem       loss  Instances       Size\n"
          ]
        },
        {
          "output_type": "stream",
          "name": "stderr",
          "text": [
            "\n",
            "      48/50         0G    0.04611         30        224: 100%|██████████| 11/11 [00:12<00:00,  1.16s/it]\n",
            "               classes   top1_acc   top5_acc: 100%|██████████| 1/1 [00:00<00:00,  1.26it/s]"
          ]
        },
        {
          "output_type": "stream",
          "name": "stdout",
          "text": [
            "                   all        0.8       0.96\n",
            "\n",
            "      Epoch    GPU_mem       loss  Instances       Size\n"
          ]
        },
        {
          "output_type": "stream",
          "name": "stderr",
          "text": [
            "\n",
            "      49/50         0G    0.05321         30        224: 100%|██████████| 11/11 [00:12<00:00,  1.15s/it]\n",
            "               classes   top1_acc   top5_acc: 100%|██████████| 1/1 [00:00<00:00,  1.36it/s]"
          ]
        },
        {
          "output_type": "stream",
          "name": "stdout",
          "text": [
            "                   all        0.8       0.96\n",
            "\n",
            "      Epoch    GPU_mem       loss  Instances       Size\n"
          ]
        },
        {
          "output_type": "stream",
          "name": "stderr",
          "text": [
            "\n",
            "      50/50         0G    0.06429         30        224: 100%|██████████| 11/11 [00:13<00:00,  1.20s/it]\n",
            "               classes   top1_acc   top5_acc: 100%|██████████| 1/1 [00:00<00:00,  1.39it/s]"
          ]
        },
        {
          "output_type": "stream",
          "name": "stdout",
          "text": [
            "                   all        0.8       0.96\n",
            "\n",
            "50 epochs completed in 0.194 hours.\n",
            "Optimizer stripped from runs/classify/train4/weights/last.pt, 3.0MB\n",
            "Optimizer stripped from runs/classify/train4/weights/best.pt, 3.0MB\n",
            "\n",
            "Validating runs/classify/train4/weights/best.pt...\n",
            "Ultralytics 8.3.157 🚀 Python-3.11.13 torch-2.6.0+cu124 CPU (AMD EPYC 7B12)\n"
          ]
        },
        {
          "output_type": "stream",
          "name": "stderr",
          "text": [
            "\n"
          ]
        },
        {
          "output_type": "stream",
          "name": "stdout",
          "text": [
            "YOLOv8n-cls summary (fused): 30 layers, 1,447,690 parameters, 0 gradients, 3.3 GFLOPs\n",
            "WARNING ⚠️ Dataset 'split=val' not found, using 'split=test' instead.\n",
            "\u001b[34m\u001b[1mtrain:\u001b[0m /content/second-2/train... found 350 images in 10 classes ✅ \n",
            "\u001b[34m\u001b[1mval:\u001b[0m /content/second-2/test... found 50 images in 10 classes ✅ \n",
            "\u001b[34m\u001b[1mtest:\u001b[0m /content/second-2/test... found 50 images in 10 classes ✅ \n"
          ]
        },
        {
          "output_type": "stream",
          "name": "stderr",
          "text": [
            "               classes   top1_acc   top5_acc: 100%|██████████| 1/1 [00:00<00:00,  1.50it/s]\n"
          ]
        },
        {
          "output_type": "stream",
          "name": "stdout",
          "text": [
            "                   all       0.84       0.98\n",
            "Speed: 0.0ms preprocess, 7.7ms inference, 0.0ms loss, 0.0ms postprocess per image\n",
            "Results saved to \u001b[1mruns/classify/train4\u001b[0m\n"
          ]
        },
        {
          "output_type": "execute_result",
          "data": {
            "text/plain": [
              "ultralytics.utils.metrics.ClassifyMetrics object with attributes:\n",
              "\n",
              "confusion_matrix: <ultralytics.utils.metrics.ConfusionMatrix object at 0x7d49b7842cd0>\n",
              "curves: []\n",
              "curves_results: []\n",
              "fitness: 0.9099999964237213\n",
              "keys: ['metrics/accuracy_top1', 'metrics/accuracy_top5']\n",
              "results_dict: {'metrics/accuracy_top1': 0.8399999737739563, 'metrics/accuracy_top5': 0.9800000190734863, 'fitness': 0.9099999964237213}\n",
              "save_dir: PosixPath('runs/classify/train4')\n",
              "speed: {'preprocess': 0.0003260000084992498, 'inference': 7.696573399989575, 'loss': 3.160002961521968e-05, 'postprocess': 7.179998647188768e-05}\n",
              "task: 'classify'\n",
              "top1: 0.8399999737739563\n",
              "top5: 0.9800000190734863"
            ]
          },
          "metadata": {},
          "execution_count": 31
        }
      ]
    },
    {
      "cell_type": "code",
      "source": [
        "model.val()"
      ],
      "metadata": {
        "colab": {
          "base_uri": "https://localhost:8080/"
        },
        "collapsed": true,
        "id": "2G3FVQ9VdG_a",
        "outputId": "32c8fa54-faca-4052-ba9f-2b2178a188e3"
      },
      "execution_count": 32,
      "outputs": [
        {
          "output_type": "stream",
          "name": "stdout",
          "text": [
            "Ultralytics 8.3.157 🚀 Python-3.11.13 torch-2.6.0+cu124 CPU (AMD EPYC 7B12)\n",
            "YOLOv8n-cls summary (fused): 30 layers, 1,447,690 parameters, 0 gradients, 3.3 GFLOPs\n",
            "WARNING ⚠️ Dataset 'split=val' not found, using 'split=test' instead.\n",
            "\u001b[34m\u001b[1mtrain:\u001b[0m /content/second-2/train... found 350 images in 10 classes ✅ \n",
            "\u001b[34m\u001b[1mval:\u001b[0m /content/second-2/test... found 50 images in 10 classes ✅ \n",
            "\u001b[34m\u001b[1mtest:\u001b[0m /content/second-2/test... found 50 images in 10 classes ✅ \n",
            "\u001b[34m\u001b[1mval: \u001b[0mFast image access ✅ (ping: 0.0±0.0 ms, read: 1083.4±349.5 MB/s, size: 65.5 KB)\n"
          ]
        },
        {
          "output_type": "stream",
          "name": "stderr",
          "text": [
            "\u001b[34m\u001b[1mval: \u001b[0mScanning /content/second-2/test... 50 images, 0 corrupt: 100%|██████████| 50/50 [00:00<?, ?it/s]\n",
            "               classes   top1_acc   top5_acc: 100%|██████████| 2/2 [00:00<00:00,  2.65it/s]\n"
          ]
        },
        {
          "output_type": "stream",
          "name": "stdout",
          "text": [
            "                   all       0.84       0.98\n",
            "Speed: 0.0ms preprocess, 8.0ms inference, 0.0ms loss, 0.0ms postprocess per image\n",
            "Results saved to \u001b[1mruns/classify/train42\u001b[0m\n"
          ]
        },
        {
          "output_type": "execute_result",
          "data": {
            "text/plain": [
              "ultralytics.utils.metrics.ClassifyMetrics object with attributes:\n",
              "\n",
              "confusion_matrix: <ultralytics.utils.metrics.ConfusionMatrix object at 0x7d49a2023490>\n",
              "curves: []\n",
              "curves_results: []\n",
              "fitness: 0.9099999964237213\n",
              "keys: ['metrics/accuracy_top1', 'metrics/accuracy_top5']\n",
              "results_dict: {'metrics/accuracy_top1': 0.8399999737739563, 'metrics/accuracy_top5': 0.9800000190734863, 'fitness': 0.9099999964237213}\n",
              "save_dir: PosixPath('runs/classify/train42')\n",
              "speed: {'preprocess': 0.0005966000026091933, 'inference': 8.02221420002752, 'loss': 5.3399962780531496e-05, 'postprocess': 0.00012680004147114232}\n",
              "task: 'classify'\n",
              "top1: 0.8399999737739563\n",
              "top5: 0.9800000190734863"
            ]
          },
          "metadata": {},
          "execution_count": 32
        }
      ]
    },
    {
      "cell_type": "code",
      "source": [
        "import os\n",
        "import shutil\n",
        "\n",
        "source_root = \"/content/second-2/test\"\n",
        "target_root = \"/content/test_images\"\n",
        "\n",
        "# 예측용 폴더 생성\n",
        "os.makedirs(target_root, exist_ok=True)\n",
        "\n",
        "# 클래스별 폴더에서 이미지만 복사\n",
        "for cls in os.listdir(source_root):\n",
        "    class_path = os.path.join(source_root, cls)\n",
        "    if os.path.isdir(class_path):\n",
        "        for file in os.listdir(class_path):\n",
        "            if file.lower().endswith(('.jpg', '.jpeg', '.png')):\n",
        "                src = os.path.join(class_path, file)\n",
        "                dst = os.path.join(target_root, file)\n",
        "                shutil.copy(src, dst)\n",
        "\n",
        "print(\"✅ 이미지 복사 완료!\")"
      ],
      "metadata": {
        "colab": {
          "base_uri": "https://localhost:8080/"
        },
        "id": "oj9UzYg7dQNT",
        "outputId": "6180b22e-4636-40bb-a2e0-e7f24435cf27"
      },
      "execution_count": 35,
      "outputs": [
        {
          "output_type": "stream",
          "name": "stdout",
          "text": [
            "✅ 이미지 복사 완료!\n"
          ]
        }
      ]
    },
    {
      "cell_type": "code",
      "source": [
        "results = model.predict(source=\"/content/test_images\", save=True)"
      ],
      "metadata": {
        "colab": {
          "base_uri": "https://localhost:8080/"
        },
        "collapsed": true,
        "id": "9SL1WtnignsD",
        "outputId": "8ce2b791-7f47-46a1-e069-2accacf62291"
      },
      "execution_count": 36,
      "outputs": [
        {
          "output_type": "stream",
          "name": "stdout",
          "text": [
            "\n",
            "image 1/53 /content/test_images/-1-_jpg.rf.92398d322d06ef68fd5535dd156e6c78.jpg: 224x224 maidenhair tree 0.48, maple tree 0.23, persimmon tree 0.16, pear tree 0.05, pine tree 0.03, 13.8ms\n",
            "image 2/53 /content/test_images/-1-_png.rf.7fc755611609452699e8120d5b409f58.jpg: 224x224 persimmon tree 0.56, jujube tree 0.32, green plum tree 0.04, maidenhair tree 0.03, mulberry tree 0.02, 14.5ms\n",
            "image 3/53 /content/test_images/-14-_jpg.rf.aed233aa6b20ca7dd44e3f97485529eb.jpg: 224x224 jujube tree 0.98, persimmon tree 0.01, plum tree 0.00, maidenhair tree 0.00, peach tree 0.00, 14.0ms\n",
            "image 4/53 /content/test_images/-15-_jpg.rf.5cf8b90c332310ad0ff4e3a5e0d6e53b.jpg: 224x224 mulberry tree 1.00, pine tree 0.00, pear tree 0.00, maidenhair tree 0.00, jujube tree 0.00, 16.6ms\n",
            "image 5/53 /content/test_images/-16-_jpg.rf.011168a1b7314c535c532719c5edb9b6.jpg: 224x224 jujube tree 0.27, peach tree 0.18, persimmon tree 0.16, plum tree 0.15, maidenhair tree 0.11, 13.6ms\n",
            "image 6/53 /content/test_images/-17-_jpg.rf.5443f9a7017138cec9caf45a3025485a.jpg: 224x224 pine tree 0.96, persimmon tree 0.01, plum tree 0.01, green plum tree 0.01, maple tree 0.00, 13.4ms\n",
            "image 7/53 /content/test_images/-18-_jpg.rf.567ac650d4085963ade310394563c2a9.jpg: 224x224 persimmon tree 0.97, jujube tree 0.02, peach tree 0.00, pear tree 0.00, maidenhair tree 0.00, 14.3ms\n",
            "image 8/53 /content/test_images/-18-_jpg.rf.faac617805190f8b7ad23415022a187c.jpg: 224x224 plum tree 0.99, peach tree 0.01, jujube tree 0.00, mulberry tree 0.00, green plum tree 0.00, 15.0ms\n",
            "image 9/53 /content/test_images/-19-_jpg.rf.3c76436d531a29e246191097ef91f282.jpg: 224x224 maple tree 0.97, mulberry tree 0.02, peach tree 0.01, maidenhair tree 0.00, plum tree 0.00, 13.6ms\n",
            "image 10/53 /content/test_images/-19-_jpg.rf.ddf7f0db040ba580f0971293e1a78fa0.jpg: 224x224 jujube tree 0.99, plum tree 0.00, green plum tree 0.00, pear tree 0.00, maidenhair tree 0.00, 16.3ms\n",
            "image 11/53 /content/test_images/-2-_jpg.rf.b8cffe5b1232fdea6e15ea1c182998ba.jpg: 224x224 peach tree 0.99, maple tree 0.01, plum tree 0.00, mulberry tree 0.00, maidenhair tree 0.00, 14.4ms\n",
            "image 12/53 /content/test_images/-2-_jpg.rf.e27fdf8b2d384bdf91fe02fdfd3c8993.jpg: 224x224 pear tree 0.67, plum tree 0.28, green plum tree 0.02, jujube tree 0.02, persimmon tree 0.00, 14.0ms\n",
            "image 13/53 /content/test_images/-22-_jpg.rf.36473a210dbd63370c06d9648b945ecf.jpg: 224x224 green plum tree 0.75, persimmon tree 0.19, jujube tree 0.03, plum tree 0.01, pine tree 0.01, 13.6ms\n",
            "image 14/53 /content/test_images/-23-_jpg.rf.04dc41874eac7c27e9947ed9a0a950d7.jpg: 224x224 persimmon tree 0.94, pine tree 0.02, pear tree 0.01, jujube tree 0.01, plum tree 0.01, 16.7ms\n",
            "image 15/53 /content/test_images/-23-_jpg.rf.5026aeadfc2698da7b5f7bb2ec7889d3.jpg: 224x224 pear tree 0.87, plum tree 0.08, green plum tree 0.02, peach tree 0.01, maidenhair tree 0.01, 14.1ms\n",
            "image 16/53 /content/test_images/-24-_jpg.rf.6851170381aa031369296a0d7d805896.jpg: 224x224 mulberry tree 0.85, maidenhair tree 0.06, jujube tree 0.03, green plum tree 0.03, persimmon tree 0.02, 22.0ms\n",
            "image 17/53 /content/test_images/-26-_jpg.rf.ac5137883ef08037dcaf5fd81d909d7e.jpg: 224x224 mulberry tree 0.69, green plum tree 0.12, jujube tree 0.07, plum tree 0.07, maidenhair tree 0.02, 13.6ms\n",
            "image 18/53 /content/test_images/-27-_jpg.rf.fd15090ca0df2787cff008cce82f5af8.jpg: 224x224 peach tree 0.61, plum tree 0.36, jujube tree 0.02, mulberry tree 0.00, maidenhair tree 0.00, 13.2ms\n",
            "image 19/53 /content/test_images/-29-_jpg.rf.0e01b6603f490145ed16d7fc6aefeb9b.jpg: 224x224 maidenhair tree 0.65, persimmon tree 0.14, jujube tree 0.06, peach tree 0.05, mulberry tree 0.04, 12.4ms\n",
            "image 20/53 /content/test_images/-29-_jpg.rf.1f8736a05325787534aa3a81071b2595.jpg: 224x224 persimmon tree 0.34, jujube tree 0.24, mulberry tree 0.21, maidenhair tree 0.13, green plum tree 0.03, 12.4ms\n",
            "image 21/53 /content/test_images/-3-_jpg.rf.ec65ed474887ab5811869f5c94e96a3e.jpg: 224x224 maidenhair tree 0.69, jujube tree 0.13, green plum tree 0.12, persimmon tree 0.02, mulberry tree 0.02, 14.0ms\n",
            "image 22/53 /content/test_images/-30-_jpg.rf.5c504954dd33dcc6665fbe862cd34763.jpg: 224x224 maidenhair tree 0.98, peach tree 0.01, mulberry tree 0.00, persimmon tree 0.00, pine tree 0.00, 11.8ms\n",
            "image 23/53 /content/test_images/-31-_jpg.rf.147cf609cfeca8879b94de9a9652ef10.jpg: 224x224 maidenhair tree 0.86, peach tree 0.06, jujube tree 0.05, persimmon tree 0.01, pear tree 0.00, 12.8ms\n",
            "image 24/53 /content/test_images/-32-_jpg.rf.2ef6c5934f81b55bf5231213aafe1e16.jpg: 224x224 green plum tree 0.45, jujube tree 0.32, plum tree 0.12, maidenhair tree 0.06, pear tree 0.04, 12.0ms\n",
            "image 25/53 /content/test_images/-32-_jpg.rf.e8eb2b4871fa48b0347c35f879ae59d0.jpg: 224x224 pine tree 0.43, maidenhair tree 0.19, persimmon tree 0.10, plum tree 0.10, maple tree 0.09, 11.9ms\n",
            "image 26/53 /content/test_images/-33-_jpg.rf.5e718e4741ff7abcff7749d385c7a52d.jpg: 224x224 pear tree 0.99, persimmon tree 0.00, green plum tree 0.00, plum tree 0.00, maidenhair tree 0.00, 12.5ms\n",
            "image 27/53 /content/test_images/-34-_jpg.rf.665efd6e09e7d5900e1348c9f0b9bebe.jpg: 224x224 mulberry tree 0.94, pine tree 0.04, green plum tree 0.01, plum tree 0.01, maple tree 0.00, 12.0ms\n",
            "image 28/53 /content/test_images/-35-_jpg.rf.b985221c6e0e21a09ef9b7f966bd5905.jpg: 224x224 mulberry tree 0.96, jujube tree 0.03, maidenhair tree 0.01, green plum tree 0.01, persimmon tree 0.00, 12.5ms\n",
            "image 29/53 /content/test_images/-36-_jpg.rf.ff707d3f10b6e93d5649ade9c27ea161.jpg: 224x224 persimmon tree 0.40, mulberry tree 0.27, jujube tree 0.20, maple tree 0.04, maidenhair tree 0.04, 12.5ms\n",
            "image 30/53 /content/test_images/-38-_jpg.rf.6d08e449c9cdb1730dea3628fc30b1b6.jpg: 224x224 maple tree 0.97, mulberry tree 0.02, peach tree 0.01, plum tree 0.00, maidenhair tree 0.00, 12.2ms\n",
            "image 31/53 /content/test_images/-39-_jpg.rf.7c387b8e3075ee16a80b5aad2db5a9db.jpg: 224x224 green plum tree 0.80, persimmon tree 0.08, plum tree 0.06, jujube tree 0.03, pine tree 0.02, 13.2ms\n",
            "image 32/53 /content/test_images/-4-_jpg.rf.0a74541e5cf7842f826bce89d9deee7f.jpg: 224x224 pine tree 0.92, plum tree 0.03, mulberry tree 0.01, jujube tree 0.01, green plum tree 0.01, 11.7ms\n",
            "image 33/53 /content/test_images/-4-_jpg.rf.429afe160cc4ff8003e0b73d9d70d2c0.jpg: 224x224 maidenhair tree 0.59, persimmon tree 0.16, pear tree 0.11, mulberry tree 0.07, green plum tree 0.03, 15.0ms\n",
            "image 34/53 /content/test_images/-40-_jpg.rf.d6669a1621d90bf4c668329ceb611088.jpg: 224x224 jujube tree 0.47, persimmon tree 0.19, maidenhair tree 0.16, pear tree 0.12, green plum tree 0.03, 11.7ms\n",
            "image 35/53 /content/test_images/-42-_jpg.rf.001f942318f8aeab3310a618bca1accd.jpg: 224x224 pine tree 1.00, persimmon tree 0.00, green plum tree 0.00, plum tree 0.00, peach tree 0.00, 13.0ms\n",
            "image 36/53 /content/test_images/-45-_jpg.rf.be144b3de5369b6a7d8952a137e7c4dc.jpg: 224x224 pear tree 0.69, plum tree 0.22, peach tree 0.02, maidenhair tree 0.02, mulberry tree 0.02, 11.9ms\n",
            "image 37/53 /content/test_images/-46-_jpg.rf.d4a7fcfbe34c4e37f7000746f37074bb.jpg: 224x224 peach tree 0.89, plum tree 0.06, mulberry tree 0.05, maple tree 0.00, green plum tree 0.00, 12.5ms\n",
            "image 38/53 /content/test_images/-48-_jpg.rf.9dd6f3f5f77d2db00343426eb863c774.jpg: 224x224 jujube tree 0.92, green plum tree 0.07, plum tree 0.01, pear tree 0.00, persimmon tree 0.00, 11.5ms\n",
            "image 39/53 /content/test_images/-49-_jpg.rf.309d6b3c645b78ac03f6fc84d59b6c1d.jpg: 224x224 maple tree 0.44, mulberry tree 0.21, plum tree 0.17, green plum tree 0.06, peach tree 0.04, 12.1ms\n",
            "image 40/53 /content/test_images/-5-_jpg.rf.3c363e88f741f7ee33086a7658f8d8dd.jpg: 224x224 mulberry tree 0.99, jujube tree 0.01, plum tree 0.00, peach tree 0.00, pine tree 0.00, 11.7ms\n",
            "image 41/53 /content/test_images/-5-_jpg.rf.4840b0442bae07bebf51cda581431a4d.jpg: 224x224 maple tree 0.62, maidenhair tree 0.22, persimmon tree 0.07, peach tree 0.03, plum tree 0.02, 12.1ms\n",
            "image 42/53 /content/test_images/-5-_jpg.rf.68f9ddc089d8b80efbd324b1e7ae78dc.jpg: 224x224 peach tree 0.63, plum tree 0.36, jujube tree 0.00, persimmon tree 0.00, green plum tree 0.00, 11.4ms\n",
            "image 43/53 /content/test_images/-51-_jpg.rf.9c11e4bf8980879654776348fb4412c9.jpg: 224x224 pear tree 0.98, persimmon tree 0.01, green plum tree 0.00, peach tree 0.00, plum tree 0.00, 11.6ms\n",
            "image 44/53 /content/test_images/-7-_jpg.rf.65c0798a756eb29069b6cdde81297788.jpg: 224x224 pine tree 1.00, green plum tree 0.00, plum tree 0.00, mulberry tree 0.00, persimmon tree 0.00, 12.6ms\n",
            "image 45/53 /content/test_images/-7-_jpg.rf.e5ef362bd7e162fbc22e84e600984e31.jpg: 224x224 maidenhair tree 0.99, pear tree 0.00, green plum tree 0.00, jujube tree 0.00, persimmon tree 0.00, 11.5ms\n",
            "image 46/53 /content/test_images/-8-_jpg.rf.8f5787a421d911a3781506a91f8915d2.jpg: 224x224 plum tree 0.95, peach tree 0.04, jujube tree 0.00, mulberry tree 0.00, green plum tree 0.00, 12.4ms\n",
            "image 47/53 /content/test_images/-_jpg.rf.52beb4a5bcc617ffbd6e87bc5263bb43.jpg: 224x224 peach tree 0.98, plum tree 0.01, jujube tree 0.01, pear tree 0.00, persimmon tree 0.00, 11.9ms\n",
            "image 48/53 /content/test_images/-_jpg.rf.c60402bdfd8bfbfcd40301094798c20c.jpg: 224x224 pine tree 0.44, maidenhair tree 0.16, peach tree 0.15, maple tree 0.13, persimmon tree 0.06, 14.8ms\n",
            "image 49/53 /content/test_images/-_jpg.rf.fb32a54c5a4a92ebfc796be99ce28d64.jpg: 224x224 plum tree 0.73, jujube tree 0.16, peach tree 0.08, pear tree 0.01, green plum tree 0.01, 13.1ms\n",
            "image 50/53 /content/test_images/blackthorn-8604451_1280_jpg.rf.2d67570492452ab24769b99a3d7d7be0.jpg: 224x224 pear tree 0.43, plum tree 0.33, mulberry tree 0.16, green plum tree 0.03, peach tree 0.02, 11.6ms\n",
            "image 51/53 /content/test_images/fruit-8573239_1280_jpg.rf.61f0a33962ce4325c0b3d436d719eb25.jpg: 224x224 green plum tree 0.97, plum tree 0.02, jujube tree 0.00, pear tree 0.00, pine tree 0.00, 11.6ms\n",
            "image 52/53 /content/test_images/suggested-nHzaaPjvqlNB6OIwxU9c_jpg.rf.436c684338cc8c2d82573971d69e7808.jpg: 224x224 maidenhair tree 0.43, persimmon tree 0.22, pear tree 0.09, maple tree 0.08, pine tree 0.06, 13.4ms\n",
            "image 53/53 /content/test_images/wudan3551-aPJw44yOL0Q-unsplash_jpg.rf.a0480987a4fff2a6827a770509c8cabc.jpg: 224x224 persimmon tree 0.99, green plum tree 0.00, plum tree 0.00, pine tree 0.00, maple tree 0.00, 11.5ms\n",
            "Speed: 5.7ms preprocess, 13.2ms inference, 0.0ms postprocess per image at shape (1, 3, 224, 224)\n",
            "Results saved to \u001b[1mruns/classify/train44\u001b[0m\n"
          ]
        }
      ]
    },
    {
      "cell_type": "code",
      "source": [
        "for r in results:\n",
        "    image_name = os.path.basename(r.path)\n",
        "    predicted_class = r.names[r.probs.top1]\n",
        "    confidence = r.probs.top1conf.item()\n",
        "    print(f\"{image_name} → {predicted_class} ({confidence:.2f})\")"
      ],
      "metadata": {
        "colab": {
          "base_uri": "https://localhost:8080/"
        },
        "collapsed": true,
        "id": "DzSogGWEgtRj",
        "outputId": "96c4f0b8-2384-45bf-ac41-cb52a18b1525"
      },
      "execution_count": 44,
      "outputs": [
        {
          "output_type": "stream",
          "name": "stdout",
          "text": [
            "-1-_jpg.rf.92398d322d06ef68fd5535dd156e6c78.jpg → maidenhair tree (0.48)\n",
            "-1-_png.rf.7fc755611609452699e8120d5b409f58.jpg → persimmon tree (0.56)\n",
            "-14-_jpg.rf.aed233aa6b20ca7dd44e3f97485529eb.jpg → jujube tree (0.98)\n",
            "-15-_jpg.rf.5cf8b90c332310ad0ff4e3a5e0d6e53b.jpg → mulberry tree (1.00)\n",
            "-16-_jpg.rf.011168a1b7314c535c532719c5edb9b6.jpg → jujube tree (0.27)\n",
            "-17-_jpg.rf.5443f9a7017138cec9caf45a3025485a.jpg → pine tree (0.96)\n",
            "-18-_jpg.rf.567ac650d4085963ade310394563c2a9.jpg → persimmon tree (0.97)\n",
            "-18-_jpg.rf.faac617805190f8b7ad23415022a187c.jpg → plum tree (0.99)\n",
            "-19-_jpg.rf.3c76436d531a29e246191097ef91f282.jpg → maple tree (0.97)\n",
            "-19-_jpg.rf.ddf7f0db040ba580f0971293e1a78fa0.jpg → jujube tree (0.99)\n",
            "-2-_jpg.rf.b8cffe5b1232fdea6e15ea1c182998ba.jpg → peach tree (0.99)\n",
            "-2-_jpg.rf.e27fdf8b2d384bdf91fe02fdfd3c8993.jpg → pear tree (0.67)\n",
            "-22-_jpg.rf.36473a210dbd63370c06d9648b945ecf.jpg → green plum tree (0.75)\n",
            "-23-_jpg.rf.04dc41874eac7c27e9947ed9a0a950d7.jpg → persimmon tree (0.94)\n",
            "-23-_jpg.rf.5026aeadfc2698da7b5f7bb2ec7889d3.jpg → pear tree (0.87)\n",
            "-24-_jpg.rf.6851170381aa031369296a0d7d805896.jpg → mulberry tree (0.85)\n",
            "-26-_jpg.rf.ac5137883ef08037dcaf5fd81d909d7e.jpg → mulberry tree (0.69)\n",
            "-27-_jpg.rf.fd15090ca0df2787cff008cce82f5af8.jpg → peach tree (0.61)\n",
            "-29-_jpg.rf.0e01b6603f490145ed16d7fc6aefeb9b.jpg → maidenhair tree (0.65)\n",
            "-29-_jpg.rf.1f8736a05325787534aa3a81071b2595.jpg → persimmon tree (0.34)\n",
            "-3-_jpg.rf.ec65ed474887ab5811869f5c94e96a3e.jpg → maidenhair tree (0.69)\n",
            "-30-_jpg.rf.5c504954dd33dcc6665fbe862cd34763.jpg → maidenhair tree (0.98)\n",
            "-31-_jpg.rf.147cf609cfeca8879b94de9a9652ef10.jpg → maidenhair tree (0.86)\n",
            "-32-_jpg.rf.2ef6c5934f81b55bf5231213aafe1e16.jpg → green plum tree (0.45)\n",
            "-32-_jpg.rf.e8eb2b4871fa48b0347c35f879ae59d0.jpg → pine tree (0.43)\n",
            "-33-_jpg.rf.5e718e4741ff7abcff7749d385c7a52d.jpg → pear tree (0.99)\n",
            "-34-_jpg.rf.665efd6e09e7d5900e1348c9f0b9bebe.jpg → mulberry tree (0.94)\n",
            "-35-_jpg.rf.b985221c6e0e21a09ef9b7f966bd5905.jpg → mulberry tree (0.96)\n",
            "-36-_jpg.rf.ff707d3f10b6e93d5649ade9c27ea161.jpg → persimmon tree (0.40)\n",
            "-38-_jpg.rf.6d08e449c9cdb1730dea3628fc30b1b6.jpg → maple tree (0.97)\n",
            "-39-_jpg.rf.7c387b8e3075ee16a80b5aad2db5a9db.jpg → green plum tree (0.80)\n",
            "-4-_jpg.rf.0a74541e5cf7842f826bce89d9deee7f.jpg → pine tree (0.92)\n",
            "-4-_jpg.rf.429afe160cc4ff8003e0b73d9d70d2c0.jpg → maidenhair tree (0.59)\n",
            "-40-_jpg.rf.d6669a1621d90bf4c668329ceb611088.jpg → jujube tree (0.47)\n",
            "-42-_jpg.rf.001f942318f8aeab3310a618bca1accd.jpg → pine tree (1.00)\n",
            "-45-_jpg.rf.be144b3de5369b6a7d8952a137e7c4dc.jpg → pear tree (0.69)\n",
            "-46-_jpg.rf.d4a7fcfbe34c4e37f7000746f37074bb.jpg → peach tree (0.89)\n",
            "-48-_jpg.rf.9dd6f3f5f77d2db00343426eb863c774.jpg → jujube tree (0.92)\n",
            "-49-_jpg.rf.309d6b3c645b78ac03f6fc84d59b6c1d.jpg → maple tree (0.44)\n",
            "-5-_jpg.rf.3c363e88f741f7ee33086a7658f8d8dd.jpg → mulberry tree (0.99)\n",
            "-5-_jpg.rf.4840b0442bae07bebf51cda581431a4d.jpg → maple tree (0.62)\n",
            "-5-_jpg.rf.68f9ddc089d8b80efbd324b1e7ae78dc.jpg → peach tree (0.63)\n",
            "-51-_jpg.rf.9c11e4bf8980879654776348fb4412c9.jpg → pear tree (0.98)\n",
            "-7-_jpg.rf.65c0798a756eb29069b6cdde81297788.jpg → pine tree (1.00)\n",
            "-7-_jpg.rf.e5ef362bd7e162fbc22e84e600984e31.jpg → maidenhair tree (0.99)\n",
            "-8-_jpg.rf.8f5787a421d911a3781506a91f8915d2.jpg → plum tree (0.95)\n",
            "-_jpg.rf.52beb4a5bcc617ffbd6e87bc5263bb43.jpg → peach tree (0.98)\n",
            "-_jpg.rf.c60402bdfd8bfbfcd40301094798c20c.jpg → pine tree (0.44)\n",
            "-_jpg.rf.fb32a54c5a4a92ebfc796be99ce28d64.jpg → plum tree (0.73)\n",
            "blackthorn-8604451_1280_jpg.rf.2d67570492452ab24769b99a3d7d7be0.jpg → pear tree (0.43)\n",
            "fruit-8573239_1280_jpg.rf.61f0a33962ce4325c0b3d436d719eb25.jpg → green plum tree (0.97)\n",
            "suggested-nHzaaPjvqlNB6OIwxU9c_jpg.rf.436c684338cc8c2d82573971d69e7808.jpg → maidenhair tree (0.43)\n",
            "wudan3551-aPJw44yOL0Q-unsplash_jpg.rf.a0480987a4fff2a6827a770509c8cabc.jpg → persimmon tree (0.99)\n"
          ]
        }
      ]
    },
    {
      "cell_type": "code",
      "source": [
        "!ls /content/test_images\n",
        "print(\"총 이미지 수:\", len(os.listdir(\"/content/test_images\")))"
      ],
      "metadata": {
        "colab": {
          "base_uri": "https://localhost:8080/"
        },
        "collapsed": true,
        "id": "0rPgZTpmlh-W",
        "outputId": "45ae4e69-1de9-4b89-b433-f48f0023111b"
      },
      "execution_count": 45,
      "outputs": [
        {
          "output_type": "stream",
          "name": "stdout",
          "text": [
            "-14-_jpg.rf.aed233aa6b20ca7dd44e3f97485529eb.jpg\n",
            "-15-_jpg.rf.5cf8b90c332310ad0ff4e3a5e0d6e53b.jpg\n",
            "-16-_jpg.rf.011168a1b7314c535c532719c5edb9b6.jpg\n",
            "-17-_jpg.rf.5443f9a7017138cec9caf45a3025485a.jpg\n",
            "-18-_jpg.rf.567ac650d4085963ade310394563c2a9.jpg\n",
            "-18-_jpg.rf.faac617805190f8b7ad23415022a187c.jpg\n",
            "-19-_jpg.rf.3c76436d531a29e246191097ef91f282.jpg\n",
            "-19-_jpg.rf.ddf7f0db040ba580f0971293e1a78fa0.jpg\n",
            "-1-_jpg.rf.92398d322d06ef68fd5535dd156e6c78.jpg\n",
            "-1-_png.rf.7fc755611609452699e8120d5b409f58.jpg\n",
            "-22-_jpg.rf.36473a210dbd63370c06d9648b945ecf.jpg\n",
            "-23-_jpg.rf.04dc41874eac7c27e9947ed9a0a950d7.jpg\n",
            "-23-_jpg.rf.5026aeadfc2698da7b5f7bb2ec7889d3.jpg\n",
            "-24-_jpg.rf.6851170381aa031369296a0d7d805896.jpg\n",
            "-26-_jpg.rf.ac5137883ef08037dcaf5fd81d909d7e.jpg\n",
            "-27-_jpg.rf.fd15090ca0df2787cff008cce82f5af8.jpg\n",
            "-29-_jpg.rf.0e01b6603f490145ed16d7fc6aefeb9b.jpg\n",
            "-29-_jpg.rf.1f8736a05325787534aa3a81071b2595.jpg\n",
            "-2-_jpg.rf.b8cffe5b1232fdea6e15ea1c182998ba.jpg\n",
            "-2-_jpg.rf.e27fdf8b2d384bdf91fe02fdfd3c8993.jpg\n",
            "-30-_jpg.rf.5c504954dd33dcc6665fbe862cd34763.jpg\n",
            "-31-_jpg.rf.147cf609cfeca8879b94de9a9652ef10.jpg\n",
            "-32-_jpg.rf.2ef6c5934f81b55bf5231213aafe1e16.jpg\n",
            "-32-_jpg.rf.e8eb2b4871fa48b0347c35f879ae59d0.jpg\n",
            "-33-_jpg.rf.5e718e4741ff7abcff7749d385c7a52d.jpg\n",
            "-34-_jpg.rf.665efd6e09e7d5900e1348c9f0b9bebe.jpg\n",
            "-35-_jpg.rf.b985221c6e0e21a09ef9b7f966bd5905.jpg\n",
            "-36-_jpg.rf.ff707d3f10b6e93d5649ade9c27ea161.jpg\n",
            "-38-_jpg.rf.6d08e449c9cdb1730dea3628fc30b1b6.jpg\n",
            "-39-_jpg.rf.7c387b8e3075ee16a80b5aad2db5a9db.jpg\n",
            "-3-_jpg.rf.ec65ed474887ab5811869f5c94e96a3e.jpg\n",
            "-40-_jpg.rf.d6669a1621d90bf4c668329ceb611088.jpg\n",
            "-42-_jpg.rf.001f942318f8aeab3310a618bca1accd.jpg\n",
            "-45-_jpg.rf.be144b3de5369b6a7d8952a137e7c4dc.jpg\n",
            "-46-_jpg.rf.d4a7fcfbe34c4e37f7000746f37074bb.jpg\n",
            "-48-_jpg.rf.9dd6f3f5f77d2db00343426eb863c774.jpg\n",
            "-49-_jpg.rf.309d6b3c645b78ac03f6fc84d59b6c1d.jpg\n",
            "-4-_jpg.rf.0a74541e5cf7842f826bce89d9deee7f.jpg\n",
            "-4-_jpg.rf.429afe160cc4ff8003e0b73d9d70d2c0.jpg\n",
            "-51-_jpg.rf.9c11e4bf8980879654776348fb4412c9.jpg\n",
            "-5-_jpg.rf.3c363e88f741f7ee33086a7658f8d8dd.jpg\n",
            "-5-_jpg.rf.4840b0442bae07bebf51cda581431a4d.jpg\n",
            "-5-_jpg.rf.68f9ddc089d8b80efbd324b1e7ae78dc.jpg\n",
            "-7-_jpg.rf.65c0798a756eb29069b6cdde81297788.jpg\n",
            "-7-_jpg.rf.e5ef362bd7e162fbc22e84e600984e31.jpg\n",
            "-8-_jpg.rf.8f5787a421d911a3781506a91f8915d2.jpg\n",
            "blackthorn-8604451_1280_jpg.rf.2d67570492452ab24769b99a3d7d7be0.jpg\n",
            "fruit-8573239_1280_jpg.rf.61f0a33962ce4325c0b3d436d719eb25.jpg\n",
            "-_jpg.rf.52beb4a5bcc617ffbd6e87bc5263bb43.jpg\n",
            "-_jpg.rf.c60402bdfd8bfbfcd40301094798c20c.jpg\n",
            "-_jpg.rf.fb32a54c5a4a92ebfc796be99ce28d64.jpg\n",
            "suggested-nHzaaPjvqlNB6OIwxU9c_jpg.rf.436c684338cc8c2d82573971d69e7808.jpg\n",
            "wudan3551-aPJw44yOL0Q-unsplash_jpg.rf.a0480987a4fff2a6827a770509c8cabc.jpg\n",
            "총 이미지 수: 53\n"
          ]
        }
      ]
    },
    {
      "cell_type": "code",
      "source": [
        "results = model.predict(source=\"/content/test_images\", save=True)"
      ],
      "metadata": {
        "colab": {
          "base_uri": "https://localhost:8080/"
        },
        "collapsed": true,
        "id": "ny4yuQ3zllsj",
        "outputId": "566afec6-3956-4617-e08a-ef9cfef02495"
      },
      "execution_count": 46,
      "outputs": [
        {
          "output_type": "stream",
          "name": "stdout",
          "text": [
            "\n",
            "image 1/53 /content/test_images/-1-_jpg.rf.92398d322d06ef68fd5535dd156e6c78.jpg: 224x224 maidenhair tree 0.48, maple tree 0.23, persimmon tree 0.16, pear tree 0.05, pine tree 0.03, 13.6ms\n",
            "image 2/53 /content/test_images/-1-_png.rf.7fc755611609452699e8120d5b409f58.jpg: 224x224 persimmon tree 0.56, jujube tree 0.32, green plum tree 0.04, maidenhair tree 0.03, mulberry tree 0.02, 11.9ms\n",
            "image 3/53 /content/test_images/-14-_jpg.rf.aed233aa6b20ca7dd44e3f97485529eb.jpg: 224x224 jujube tree 0.98, persimmon tree 0.01, plum tree 0.00, maidenhair tree 0.00, peach tree 0.00, 14.6ms\n",
            "image 4/53 /content/test_images/-15-_jpg.rf.5cf8b90c332310ad0ff4e3a5e0d6e53b.jpg: 224x224 mulberry tree 1.00, pine tree 0.00, pear tree 0.00, maidenhair tree 0.00, jujube tree 0.00, 11.5ms\n",
            "image 5/53 /content/test_images/-16-_jpg.rf.011168a1b7314c535c532719c5edb9b6.jpg: 224x224 jujube tree 0.27, peach tree 0.18, persimmon tree 0.16, plum tree 0.15, maidenhair tree 0.11, 12.8ms\n",
            "image 6/53 /content/test_images/-17-_jpg.rf.5443f9a7017138cec9caf45a3025485a.jpg: 224x224 pine tree 0.96, persimmon tree 0.01, plum tree 0.01, green plum tree 0.01, maple tree 0.00, 14.2ms\n",
            "image 7/53 /content/test_images/-18-_jpg.rf.567ac650d4085963ade310394563c2a9.jpg: 224x224 persimmon tree 0.97, jujube tree 0.02, peach tree 0.00, pear tree 0.00, maidenhair tree 0.00, 17.3ms\n",
            "image 8/53 /content/test_images/-18-_jpg.rf.faac617805190f8b7ad23415022a187c.jpg: 224x224 plum tree 0.99, peach tree 0.01, jujube tree 0.00, mulberry tree 0.00, green plum tree 0.00, 11.5ms\n",
            "image 9/53 /content/test_images/-19-_jpg.rf.3c76436d531a29e246191097ef91f282.jpg: 224x224 maple tree 0.97, mulberry tree 0.02, peach tree 0.01, maidenhair tree 0.00, plum tree 0.00, 11.5ms\n",
            "image 10/53 /content/test_images/-19-_jpg.rf.ddf7f0db040ba580f0971293e1a78fa0.jpg: 224x224 jujube tree 0.99, plum tree 0.00, green plum tree 0.00, pear tree 0.00, maidenhair tree 0.00, 11.5ms\n",
            "image 11/53 /content/test_images/-2-_jpg.rf.b8cffe5b1232fdea6e15ea1c182998ba.jpg: 224x224 peach tree 0.99, maple tree 0.01, plum tree 0.00, mulberry tree 0.00, maidenhair tree 0.00, 14.7ms\n",
            "image 12/53 /content/test_images/-2-_jpg.rf.e27fdf8b2d384bdf91fe02fdfd3c8993.jpg: 224x224 pear tree 0.67, plum tree 0.28, green plum tree 0.02, jujube tree 0.02, persimmon tree 0.00, 11.3ms\n",
            "image 13/53 /content/test_images/-22-_jpg.rf.36473a210dbd63370c06d9648b945ecf.jpg: 224x224 green plum tree 0.75, persimmon tree 0.19, jujube tree 0.03, plum tree 0.01, pine tree 0.01, 11.8ms\n",
            "image 14/53 /content/test_images/-23-_jpg.rf.04dc41874eac7c27e9947ed9a0a950d7.jpg: 224x224 persimmon tree 0.94, pine tree 0.02, pear tree 0.01, jujube tree 0.01, plum tree 0.01, 12.5ms\n",
            "image 15/53 /content/test_images/-23-_jpg.rf.5026aeadfc2698da7b5f7bb2ec7889d3.jpg: 224x224 pear tree 0.87, plum tree 0.08, green plum tree 0.02, peach tree 0.01, maidenhair tree 0.01, 12.0ms\n",
            "image 16/53 /content/test_images/-24-_jpg.rf.6851170381aa031369296a0d7d805896.jpg: 224x224 mulberry tree 0.85, maidenhair tree 0.06, jujube tree 0.03, green plum tree 0.03, persimmon tree 0.02, 11.8ms\n",
            "image 17/53 /content/test_images/-26-_jpg.rf.ac5137883ef08037dcaf5fd81d909d7e.jpg: 224x224 mulberry tree 0.69, green plum tree 0.12, jujube tree 0.07, plum tree 0.07, maidenhair tree 0.02, 11.6ms\n",
            "image 18/53 /content/test_images/-27-_jpg.rf.fd15090ca0df2787cff008cce82f5af8.jpg: 224x224 peach tree 0.61, plum tree 0.36, jujube tree 0.02, mulberry tree 0.00, maidenhair tree 0.00, 12.9ms\n",
            "image 19/53 /content/test_images/-29-_jpg.rf.0e01b6603f490145ed16d7fc6aefeb9b.jpg: 224x224 maidenhair tree 0.65, persimmon tree 0.14, jujube tree 0.06, peach tree 0.05, mulberry tree 0.04, 12.0ms\n",
            "image 20/53 /content/test_images/-29-_jpg.rf.1f8736a05325787534aa3a81071b2595.jpg: 224x224 persimmon tree 0.34, jujube tree 0.24, mulberry tree 0.21, maidenhair tree 0.13, green plum tree 0.03, 11.5ms\n",
            "image 21/53 /content/test_images/-3-_jpg.rf.ec65ed474887ab5811869f5c94e96a3e.jpg: 224x224 maidenhair tree 0.69, jujube tree 0.13, green plum tree 0.12, persimmon tree 0.02, mulberry tree 0.02, 11.6ms\n",
            "image 22/53 /content/test_images/-30-_jpg.rf.5c504954dd33dcc6665fbe862cd34763.jpg: 224x224 maidenhair tree 0.98, peach tree 0.01, mulberry tree 0.00, persimmon tree 0.00, pine tree 0.00, 11.4ms\n",
            "image 23/53 /content/test_images/-31-_jpg.rf.147cf609cfeca8879b94de9a9652ef10.jpg: 224x224 maidenhair tree 0.86, peach tree 0.06, jujube tree 0.05, persimmon tree 0.01, pear tree 0.00, 12.5ms\n",
            "image 24/53 /content/test_images/-32-_jpg.rf.2ef6c5934f81b55bf5231213aafe1e16.jpg: 224x224 green plum tree 0.45, jujube tree 0.32, plum tree 0.12, maidenhair tree 0.06, pear tree 0.04, 12.1ms\n",
            "image 25/53 /content/test_images/-32-_jpg.rf.e8eb2b4871fa48b0347c35f879ae59d0.jpg: 224x224 pine tree 0.43, maidenhair tree 0.19, persimmon tree 0.10, plum tree 0.10, maple tree 0.09, 11.6ms\n",
            "image 26/53 /content/test_images/-33-_jpg.rf.5e718e4741ff7abcff7749d385c7a52d.jpg: 224x224 pear tree 0.99, persimmon tree 0.00, green plum tree 0.00, plum tree 0.00, maidenhair tree 0.00, 11.7ms\n",
            "image 27/53 /content/test_images/-34-_jpg.rf.665efd6e09e7d5900e1348c9f0b9bebe.jpg: 224x224 mulberry tree 0.94, pine tree 0.04, green plum tree 0.01, plum tree 0.01, maple tree 0.00, 14.0ms\n",
            "image 28/53 /content/test_images/-35-_jpg.rf.b985221c6e0e21a09ef9b7f966bd5905.jpg: 224x224 mulberry tree 0.96, jujube tree 0.03, maidenhair tree 0.01, green plum tree 0.01, persimmon tree 0.00, 12.0ms\n",
            "image 29/53 /content/test_images/-36-_jpg.rf.ff707d3f10b6e93d5649ade9c27ea161.jpg: 224x224 persimmon tree 0.40, mulberry tree 0.27, jujube tree 0.20, maple tree 0.04, maidenhair tree 0.04, 11.8ms\n",
            "image 30/53 /content/test_images/-38-_jpg.rf.6d08e449c9cdb1730dea3628fc30b1b6.jpg: 224x224 maple tree 0.97, mulberry tree 0.02, peach tree 0.01, plum tree 0.00, maidenhair tree 0.00, 11.8ms\n",
            "image 31/53 /content/test_images/-39-_jpg.rf.7c387b8e3075ee16a80b5aad2db5a9db.jpg: 224x224 green plum tree 0.80, persimmon tree 0.08, plum tree 0.06, jujube tree 0.03, pine tree 0.02, 15.0ms\n",
            "image 32/53 /content/test_images/-4-_jpg.rf.0a74541e5cf7842f826bce89d9deee7f.jpg: 224x224 pine tree 0.92, plum tree 0.03, mulberry tree 0.01, jujube tree 0.01, green plum tree 0.01, 11.8ms\n",
            "image 33/53 /content/test_images/-4-_jpg.rf.429afe160cc4ff8003e0b73d9d70d2c0.jpg: 224x224 maidenhair tree 0.59, persimmon tree 0.16, pear tree 0.11, mulberry tree 0.07, green plum tree 0.03, 12.1ms\n",
            "image 34/53 /content/test_images/-40-_jpg.rf.d6669a1621d90bf4c668329ceb611088.jpg: 224x224 jujube tree 0.47, persimmon tree 0.19, maidenhair tree 0.16, pear tree 0.12, green plum tree 0.03, 11.5ms\n",
            "image 35/53 /content/test_images/-42-_jpg.rf.001f942318f8aeab3310a618bca1accd.jpg: 224x224 pine tree 1.00, persimmon tree 0.00, green plum tree 0.00, plum tree 0.00, peach tree 0.00, 12.5ms\n",
            "image 36/53 /content/test_images/-45-_jpg.rf.be144b3de5369b6a7d8952a137e7c4dc.jpg: 224x224 pear tree 0.69, plum tree 0.22, peach tree 0.02, maidenhair tree 0.02, mulberry tree 0.02, 11.8ms\n",
            "image 37/53 /content/test_images/-46-_jpg.rf.d4a7fcfbe34c4e37f7000746f37074bb.jpg: 224x224 peach tree 0.89, plum tree 0.06, mulberry tree 0.05, maple tree 0.00, green plum tree 0.00, 11.9ms\n",
            "image 38/53 /content/test_images/-48-_jpg.rf.9dd6f3f5f77d2db00343426eb863c774.jpg: 224x224 jujube tree 0.92, green plum tree 0.07, plum tree 0.01, pear tree 0.00, persimmon tree 0.00, 13.2ms\n",
            "image 39/53 /content/test_images/-49-_jpg.rf.309d6b3c645b78ac03f6fc84d59b6c1d.jpg: 224x224 maple tree 0.44, mulberry tree 0.21, plum tree 0.17, green plum tree 0.06, peach tree 0.04, 11.9ms\n",
            "image 40/53 /content/test_images/-5-_jpg.rf.3c363e88f741f7ee33086a7658f8d8dd.jpg: 224x224 mulberry tree 0.99, jujube tree 0.01, plum tree 0.00, peach tree 0.00, pine tree 0.00, 11.4ms\n",
            "image 41/53 /content/test_images/-5-_jpg.rf.4840b0442bae07bebf51cda581431a4d.jpg: 224x224 maple tree 0.62, maidenhair tree 0.22, persimmon tree 0.07, peach tree 0.03, plum tree 0.02, 12.1ms\n",
            "image 42/53 /content/test_images/-5-_jpg.rf.68f9ddc089d8b80efbd324b1e7ae78dc.jpg: 224x224 peach tree 0.63, plum tree 0.36, jujube tree 0.00, persimmon tree 0.00, green plum tree 0.00, 11.4ms\n",
            "image 43/53 /content/test_images/-51-_jpg.rf.9c11e4bf8980879654776348fb4412c9.jpg: 224x224 pear tree 0.98, persimmon tree 0.01, green plum tree 0.00, peach tree 0.00, plum tree 0.00, 12.2ms\n",
            "image 44/53 /content/test_images/-7-_jpg.rf.65c0798a756eb29069b6cdde81297788.jpg: 224x224 pine tree 1.00, green plum tree 0.00, plum tree 0.00, mulberry tree 0.00, persimmon tree 0.00, 15.9ms\n",
            "image 45/53 /content/test_images/-7-_jpg.rf.e5ef362bd7e162fbc22e84e600984e31.jpg: 224x224 maidenhair tree 0.99, pear tree 0.00, green plum tree 0.00, jujube tree 0.00, persimmon tree 0.00, 12.2ms\n",
            "image 46/53 /content/test_images/-8-_jpg.rf.8f5787a421d911a3781506a91f8915d2.jpg: 224x224 plum tree 0.95, peach tree 0.04, jujube tree 0.00, mulberry tree 0.00, green plum tree 0.00, 11.3ms\n",
            "image 47/53 /content/test_images/-_jpg.rf.52beb4a5bcc617ffbd6e87bc5263bb43.jpg: 224x224 peach tree 0.98, plum tree 0.01, jujube tree 0.01, pear tree 0.00, persimmon tree 0.00, 11.4ms\n",
            "image 48/53 /content/test_images/-_jpg.rf.c60402bdfd8bfbfcd40301094798c20c.jpg: 224x224 pine tree 0.44, maidenhair tree 0.16, peach tree 0.15, maple tree 0.13, persimmon tree 0.06, 11.3ms\n",
            "image 49/53 /content/test_images/-_jpg.rf.fb32a54c5a4a92ebfc796be99ce28d64.jpg: 224x224 plum tree 0.73, jujube tree 0.16, peach tree 0.08, pear tree 0.01, green plum tree 0.01, 11.8ms\n",
            "image 50/53 /content/test_images/blackthorn-8604451_1280_jpg.rf.2d67570492452ab24769b99a3d7d7be0.jpg: 224x224 pear tree 0.43, plum tree 0.33, mulberry tree 0.16, green plum tree 0.03, peach tree 0.02, 11.7ms\n",
            "image 51/53 /content/test_images/fruit-8573239_1280_jpg.rf.61f0a33962ce4325c0b3d436d719eb25.jpg: 224x224 green plum tree 0.97, plum tree 0.02, jujube tree 0.00, pear tree 0.00, pine tree 0.00, 12.4ms\n",
            "image 52/53 /content/test_images/suggested-nHzaaPjvqlNB6OIwxU9c_jpg.rf.436c684338cc8c2d82573971d69e7808.jpg: 224x224 maidenhair tree 0.43, persimmon tree 0.22, pear tree 0.09, maple tree 0.08, pine tree 0.06, 12.2ms\n",
            "image 53/53 /content/test_images/wudan3551-aPJw44yOL0Q-unsplash_jpg.rf.a0480987a4fff2a6827a770509c8cabc.jpg: 224x224 persimmon tree 0.99, green plum tree 0.00, plum tree 0.00, pine tree 0.00, maple tree 0.00, 12.1ms\n",
            "Speed: 5.1ms preprocess, 12.3ms inference, 0.0ms postprocess per image at shape (1, 3, 224, 224)\n",
            "Results saved to \u001b[1mruns/classify/train47\u001b[0m\n"
          ]
        }
      ]
    },
    {
      "cell_type": "code",
      "source": [
        "# 정답 라벨 맵 만들기 (파일명 → 클래스명)\n",
        "import os\n",
        "\n",
        "label_map = {}\n",
        "test_dir = \"/content/second-1/test\"\n",
        "\n",
        "for cls in os.listdir(test_dir):\n",
        "    cls_path = os.path.join(test_dir, cls)\n",
        "    if os.path.isdir(cls_path):\n",
        "        for fname in os.listdir(cls_path):\n",
        "            if fname.lower().endswith(('.jpg', '.jpeg', '.png')):\n",
        "                label_map[fname] = cls  # 예: {'img_1.jpg': 'pine'}"
      ],
      "metadata": {
        "id": "VEIbkep1lpJb"
      },
      "execution_count": 47,
      "outputs": []
    },
    {
      "cell_type": "code",
      "source": [
        "results = model.predict(source=\"/content/test_images\", save=True)"
      ],
      "metadata": {
        "colab": {
          "base_uri": "https://localhost:8080/"
        },
        "collapsed": true,
        "id": "aFxw7zHel47-",
        "outputId": "14674b66-5376-4327-c50e-b9af0141f5ac"
      },
      "execution_count": 48,
      "outputs": [
        {
          "output_type": "stream",
          "name": "stdout",
          "text": [
            "\n",
            "image 1/53 /content/test_images/-1-_jpg.rf.92398d322d06ef68fd5535dd156e6c78.jpg: 224x224 maidenhair tree 0.48, maple tree 0.23, persimmon tree 0.16, pear tree 0.05, pine tree 0.03, 16.8ms\n",
            "image 2/53 /content/test_images/-1-_png.rf.7fc755611609452699e8120d5b409f58.jpg: 224x224 persimmon tree 0.56, jujube tree 0.32, green plum tree 0.04, maidenhair tree 0.03, mulberry tree 0.02, 20.7ms\n",
            "image 3/53 /content/test_images/-14-_jpg.rf.aed233aa6b20ca7dd44e3f97485529eb.jpg: 224x224 jujube tree 0.98, persimmon tree 0.01, plum tree 0.00, maidenhair tree 0.00, peach tree 0.00, 16.3ms\n",
            "image 4/53 /content/test_images/-15-_jpg.rf.5cf8b90c332310ad0ff4e3a5e0d6e53b.jpg: 224x224 mulberry tree 1.00, pine tree 0.00, pear tree 0.00, maidenhair tree 0.00, jujube tree 0.00, 17.2ms\n",
            "image 5/53 /content/test_images/-16-_jpg.rf.011168a1b7314c535c532719c5edb9b6.jpg: 224x224 jujube tree 0.27, peach tree 0.18, persimmon tree 0.16, plum tree 0.15, maidenhair tree 0.11, 11.3ms\n",
            "image 6/53 /content/test_images/-17-_jpg.rf.5443f9a7017138cec9caf45a3025485a.jpg: 224x224 pine tree 0.96, persimmon tree 0.01, plum tree 0.01, green plum tree 0.01, maple tree 0.00, 14.4ms\n",
            "image 7/53 /content/test_images/-18-_jpg.rf.567ac650d4085963ade310394563c2a9.jpg: 224x224 persimmon tree 0.97, jujube tree 0.02, peach tree 0.00, pear tree 0.00, maidenhair tree 0.00, 11.7ms\n",
            "image 8/53 /content/test_images/-18-_jpg.rf.faac617805190f8b7ad23415022a187c.jpg: 224x224 plum tree 0.99, peach tree 0.01, jujube tree 0.00, mulberry tree 0.00, green plum tree 0.00, 11.8ms\n",
            "image 9/53 /content/test_images/-19-_jpg.rf.3c76436d531a29e246191097ef91f282.jpg: 224x224 maple tree 0.97, mulberry tree 0.02, peach tree 0.01, maidenhair tree 0.00, plum tree 0.00, 11.5ms\n",
            "image 10/53 /content/test_images/-19-_jpg.rf.ddf7f0db040ba580f0971293e1a78fa0.jpg: 224x224 jujube tree 0.99, plum tree 0.00, green plum tree 0.00, pear tree 0.00, maidenhair tree 0.00, 12.2ms\n",
            "image 11/53 /content/test_images/-2-_jpg.rf.b8cffe5b1232fdea6e15ea1c182998ba.jpg: 224x224 peach tree 0.99, maple tree 0.01, plum tree 0.00, mulberry tree 0.00, maidenhair tree 0.00, 12.0ms\n",
            "image 12/53 /content/test_images/-2-_jpg.rf.e27fdf8b2d384bdf91fe02fdfd3c8993.jpg: 224x224 pear tree 0.67, plum tree 0.28, green plum tree 0.02, jujube tree 0.02, persimmon tree 0.00, 17.7ms\n",
            "image 13/53 /content/test_images/-22-_jpg.rf.36473a210dbd63370c06d9648b945ecf.jpg: 224x224 green plum tree 0.75, persimmon tree 0.19, jujube tree 0.03, plum tree 0.01, pine tree 0.01, 11.5ms\n",
            "image 14/53 /content/test_images/-23-_jpg.rf.04dc41874eac7c27e9947ed9a0a950d7.jpg: 224x224 persimmon tree 0.94, pine tree 0.02, pear tree 0.01, jujube tree 0.01, plum tree 0.01, 11.3ms\n",
            "image 15/53 /content/test_images/-23-_jpg.rf.5026aeadfc2698da7b5f7bb2ec7889d3.jpg: 224x224 pear tree 0.87, plum tree 0.08, green plum tree 0.02, peach tree 0.01, maidenhair tree 0.01, 11.0ms\n",
            "image 16/53 /content/test_images/-24-_jpg.rf.6851170381aa031369296a0d7d805896.jpg: 224x224 mulberry tree 0.85, maidenhair tree 0.06, jujube tree 0.03, green plum tree 0.03, persimmon tree 0.02, 11.6ms\n",
            "image 17/53 /content/test_images/-26-_jpg.rf.ac5137883ef08037dcaf5fd81d909d7e.jpg: 224x224 mulberry tree 0.69, green plum tree 0.12, jujube tree 0.07, plum tree 0.07, maidenhair tree 0.02, 12.8ms\n",
            "image 18/53 /content/test_images/-27-_jpg.rf.fd15090ca0df2787cff008cce82f5af8.jpg: 224x224 peach tree 0.61, plum tree 0.36, jujube tree 0.02, mulberry tree 0.00, maidenhair tree 0.00, 12.5ms\n",
            "image 19/53 /content/test_images/-29-_jpg.rf.0e01b6603f490145ed16d7fc6aefeb9b.jpg: 224x224 maidenhair tree 0.65, persimmon tree 0.14, jujube tree 0.06, peach tree 0.05, mulberry tree 0.04, 11.3ms\n",
            "image 20/53 /content/test_images/-29-_jpg.rf.1f8736a05325787534aa3a81071b2595.jpg: 224x224 persimmon tree 0.34, jujube tree 0.24, mulberry tree 0.21, maidenhair tree 0.13, green plum tree 0.03, 13.0ms\n",
            "image 21/53 /content/test_images/-3-_jpg.rf.ec65ed474887ab5811869f5c94e96a3e.jpg: 224x224 maidenhair tree 0.69, jujube tree 0.13, green plum tree 0.12, persimmon tree 0.02, mulberry tree 0.02, 15.8ms\n",
            "image 22/53 /content/test_images/-30-_jpg.rf.5c504954dd33dcc6665fbe862cd34763.jpg: 224x224 maidenhair tree 0.98, peach tree 0.01, mulberry tree 0.00, persimmon tree 0.00, pine tree 0.00, 11.7ms\n",
            "image 23/53 /content/test_images/-31-_jpg.rf.147cf609cfeca8879b94de9a9652ef10.jpg: 224x224 maidenhair tree 0.86, peach tree 0.06, jujube tree 0.05, persimmon tree 0.01, pear tree 0.00, 11.9ms\n",
            "image 24/53 /content/test_images/-32-_jpg.rf.2ef6c5934f81b55bf5231213aafe1e16.jpg: 224x224 green plum tree 0.45, jujube tree 0.32, plum tree 0.12, maidenhair tree 0.06, pear tree 0.04, 11.6ms\n",
            "image 25/53 /content/test_images/-32-_jpg.rf.e8eb2b4871fa48b0347c35f879ae59d0.jpg: 224x224 pine tree 0.43, maidenhair tree 0.19, persimmon tree 0.10, plum tree 0.10, maple tree 0.09, 11.5ms\n",
            "image 26/53 /content/test_images/-33-_jpg.rf.5e718e4741ff7abcff7749d385c7a52d.jpg: 224x224 pear tree 0.99, persimmon tree 0.00, green plum tree 0.00, plum tree 0.00, maidenhair tree 0.00, 11.9ms\n",
            "image 27/53 /content/test_images/-34-_jpg.rf.665efd6e09e7d5900e1348c9f0b9bebe.jpg: 224x224 mulberry tree 0.94, pine tree 0.04, green plum tree 0.01, plum tree 0.01, maple tree 0.00, 12.2ms\n",
            "image 28/53 /content/test_images/-35-_jpg.rf.b985221c6e0e21a09ef9b7f966bd5905.jpg: 224x224 mulberry tree 0.96, jujube tree 0.03, maidenhair tree 0.01, green plum tree 0.01, persimmon tree 0.00, 11.6ms\n",
            "image 29/53 /content/test_images/-36-_jpg.rf.ff707d3f10b6e93d5649ade9c27ea161.jpg: 224x224 persimmon tree 0.40, mulberry tree 0.27, jujube tree 0.20, maple tree 0.04, maidenhair tree 0.04, 11.8ms\n",
            "image 30/53 /content/test_images/-38-_jpg.rf.6d08e449c9cdb1730dea3628fc30b1b6.jpg: 224x224 maple tree 0.97, mulberry tree 0.02, peach tree 0.01, plum tree 0.00, maidenhair tree 0.00, 11.5ms\n",
            "image 31/53 /content/test_images/-39-_jpg.rf.7c387b8e3075ee16a80b5aad2db5a9db.jpg: 224x224 green plum tree 0.80, persimmon tree 0.08, plum tree 0.06, jujube tree 0.03, pine tree 0.02, 11.5ms\n",
            "image 32/53 /content/test_images/-4-_jpg.rf.0a74541e5cf7842f826bce89d9deee7f.jpg: 224x224 pine tree 0.92, plum tree 0.03, mulberry tree 0.01, jujube tree 0.01, green plum tree 0.01, 13.3ms\n",
            "image 33/53 /content/test_images/-4-_jpg.rf.429afe160cc4ff8003e0b73d9d70d2c0.jpg: 224x224 maidenhair tree 0.59, persimmon tree 0.16, pear tree 0.11, mulberry tree 0.07, green plum tree 0.03, 15.3ms\n",
            "image 34/53 /content/test_images/-40-_jpg.rf.d6669a1621d90bf4c668329ceb611088.jpg: 224x224 jujube tree 0.47, persimmon tree 0.19, maidenhair tree 0.16, pear tree 0.12, green plum tree 0.03, 11.8ms\n",
            "image 35/53 /content/test_images/-42-_jpg.rf.001f942318f8aeab3310a618bca1accd.jpg: 224x224 pine tree 1.00, persimmon tree 0.00, green plum tree 0.00, plum tree 0.00, peach tree 0.00, 11.9ms\n",
            "image 36/53 /content/test_images/-45-_jpg.rf.be144b3de5369b6a7d8952a137e7c4dc.jpg: 224x224 pear tree 0.69, plum tree 0.22, peach tree 0.02, maidenhair tree 0.02, mulberry tree 0.02, 11.9ms\n",
            "image 37/53 /content/test_images/-46-_jpg.rf.d4a7fcfbe34c4e37f7000746f37074bb.jpg: 224x224 peach tree 0.89, plum tree 0.06, mulberry tree 0.05, maple tree 0.00, green plum tree 0.00, 12.3ms\n",
            "image 38/53 /content/test_images/-48-_jpg.rf.9dd6f3f5f77d2db00343426eb863c774.jpg: 224x224 jujube tree 0.92, green plum tree 0.07, plum tree 0.01, pear tree 0.00, persimmon tree 0.00, 12.7ms\n",
            "image 39/53 /content/test_images/-49-_jpg.rf.309d6b3c645b78ac03f6fc84d59b6c1d.jpg: 224x224 maple tree 0.44, mulberry tree 0.21, plum tree 0.17, green plum tree 0.06, peach tree 0.04, 11.6ms\n",
            "image 40/53 /content/test_images/-5-_jpg.rf.3c363e88f741f7ee33086a7658f8d8dd.jpg: 224x224 mulberry tree 0.99, jujube tree 0.01, plum tree 0.00, peach tree 0.00, pine tree 0.00, 11.5ms\n",
            "image 41/53 /content/test_images/-5-_jpg.rf.4840b0442bae07bebf51cda581431a4d.jpg: 224x224 maple tree 0.62, maidenhair tree 0.22, persimmon tree 0.07, peach tree 0.03, plum tree 0.02, 13.8ms\n",
            "image 42/53 /content/test_images/-5-_jpg.rf.68f9ddc089d8b80efbd324b1e7ae78dc.jpg: 224x224 peach tree 0.63, plum tree 0.36, jujube tree 0.00, persimmon tree 0.00, green plum tree 0.00, 11.5ms\n",
            "image 43/53 /content/test_images/-51-_jpg.rf.9c11e4bf8980879654776348fb4412c9.jpg: 224x224 pear tree 0.98, persimmon tree 0.01, green plum tree 0.00, peach tree 0.00, plum tree 0.00, 12.1ms\n",
            "image 44/53 /content/test_images/-7-_jpg.rf.65c0798a756eb29069b6cdde81297788.jpg: 224x224 pine tree 1.00, green plum tree 0.00, plum tree 0.00, mulberry tree 0.00, persimmon tree 0.00, 11.3ms\n",
            "image 45/53 /content/test_images/-7-_jpg.rf.e5ef362bd7e162fbc22e84e600984e31.jpg: 224x224 maidenhair tree 0.99, pear tree 0.00, green plum tree 0.00, jujube tree 0.00, persimmon tree 0.00, 11.8ms\n",
            "image 46/53 /content/test_images/-8-_jpg.rf.8f5787a421d911a3781506a91f8915d2.jpg: 224x224 plum tree 0.95, peach tree 0.04, jujube tree 0.00, mulberry tree 0.00, green plum tree 0.00, 11.8ms\n",
            "image 47/53 /content/test_images/-_jpg.rf.52beb4a5bcc617ffbd6e87bc5263bb43.jpg: 224x224 peach tree 0.98, plum tree 0.01, jujube tree 0.01, pear tree 0.00, persimmon tree 0.00, 11.6ms\n",
            "image 48/53 /content/test_images/-_jpg.rf.c60402bdfd8bfbfcd40301094798c20c.jpg: 224x224 pine tree 0.44, maidenhair tree 0.16, peach tree 0.15, maple tree 0.13, persimmon tree 0.06, 12.3ms\n",
            "image 49/53 /content/test_images/-_jpg.rf.fb32a54c5a4a92ebfc796be99ce28d64.jpg: 224x224 plum tree 0.73, jujube tree 0.16, peach tree 0.08, pear tree 0.01, green plum tree 0.01, 11.7ms\n",
            "image 50/53 /content/test_images/blackthorn-8604451_1280_jpg.rf.2d67570492452ab24769b99a3d7d7be0.jpg: 224x224 pear tree 0.43, plum tree 0.33, mulberry tree 0.16, green plum tree 0.03, peach tree 0.02, 13.8ms\n",
            "image 51/53 /content/test_images/fruit-8573239_1280_jpg.rf.61f0a33962ce4325c0b3d436d719eb25.jpg: 224x224 green plum tree 0.97, plum tree 0.02, jujube tree 0.00, pear tree 0.00, pine tree 0.00, 11.4ms\n",
            "image 52/53 /content/test_images/suggested-nHzaaPjvqlNB6OIwxU9c_jpg.rf.436c684338cc8c2d82573971d69e7808.jpg: 224x224 maidenhair tree 0.43, persimmon tree 0.22, pear tree 0.09, maple tree 0.08, pine tree 0.06, 11.5ms\n",
            "image 53/53 /content/test_images/wudan3551-aPJw44yOL0Q-unsplash_jpg.rf.a0480987a4fff2a6827a770509c8cabc.jpg: 224x224 persimmon tree 0.99, green plum tree 0.00, plum tree 0.00, pine tree 0.00, maple tree 0.00, 13.7ms\n",
            "Speed: 5.3ms preprocess, 12.7ms inference, 0.0ms postprocess per image at shape (1, 3, 224, 224)\n",
            "Results saved to \u001b[1mruns/classify/train48\u001b[0m\n"
          ]
        }
      ]
    },
    {
      "cell_type": "code",
      "source": [
        "for r in results:\n",
        "    image_name = os.path.basename(r.path)\n",
        "    predicted_class = r.names[r.probs.top1]\n",
        "    confidence = r.probs.top1conf.item()\n",
        "    print(f\"{image_name} → {predicted_class} ({confidence:.2f})\")"
      ],
      "metadata": {
        "colab": {
          "base_uri": "https://localhost:8080/"
        },
        "collapsed": true,
        "id": "era7WkqgMDof",
        "outputId": "2fa9881b-4003-4ccf-afc8-4894646b953f"
      },
      "execution_count": 49,
      "outputs": [
        {
          "output_type": "stream",
          "name": "stdout",
          "text": [
            "-1-_jpg.rf.92398d322d06ef68fd5535dd156e6c78.jpg → maidenhair tree (0.48)\n",
            "-1-_png.rf.7fc755611609452699e8120d5b409f58.jpg → persimmon tree (0.56)\n",
            "-14-_jpg.rf.aed233aa6b20ca7dd44e3f97485529eb.jpg → jujube tree (0.98)\n",
            "-15-_jpg.rf.5cf8b90c332310ad0ff4e3a5e0d6e53b.jpg → mulberry tree (1.00)\n",
            "-16-_jpg.rf.011168a1b7314c535c532719c5edb9b6.jpg → jujube tree (0.27)\n",
            "-17-_jpg.rf.5443f9a7017138cec9caf45a3025485a.jpg → pine tree (0.96)\n",
            "-18-_jpg.rf.567ac650d4085963ade310394563c2a9.jpg → persimmon tree (0.97)\n",
            "-18-_jpg.rf.faac617805190f8b7ad23415022a187c.jpg → plum tree (0.99)\n",
            "-19-_jpg.rf.3c76436d531a29e246191097ef91f282.jpg → maple tree (0.97)\n",
            "-19-_jpg.rf.ddf7f0db040ba580f0971293e1a78fa0.jpg → jujube tree (0.99)\n",
            "-2-_jpg.rf.b8cffe5b1232fdea6e15ea1c182998ba.jpg → peach tree (0.99)\n",
            "-2-_jpg.rf.e27fdf8b2d384bdf91fe02fdfd3c8993.jpg → pear tree (0.67)\n",
            "-22-_jpg.rf.36473a210dbd63370c06d9648b945ecf.jpg → green plum tree (0.75)\n",
            "-23-_jpg.rf.04dc41874eac7c27e9947ed9a0a950d7.jpg → persimmon tree (0.94)\n",
            "-23-_jpg.rf.5026aeadfc2698da7b5f7bb2ec7889d3.jpg → pear tree (0.87)\n",
            "-24-_jpg.rf.6851170381aa031369296a0d7d805896.jpg → mulberry tree (0.85)\n",
            "-26-_jpg.rf.ac5137883ef08037dcaf5fd81d909d7e.jpg → mulberry tree (0.69)\n",
            "-27-_jpg.rf.fd15090ca0df2787cff008cce82f5af8.jpg → peach tree (0.61)\n",
            "-29-_jpg.rf.0e01b6603f490145ed16d7fc6aefeb9b.jpg → maidenhair tree (0.65)\n",
            "-29-_jpg.rf.1f8736a05325787534aa3a81071b2595.jpg → persimmon tree (0.34)\n",
            "-3-_jpg.rf.ec65ed474887ab5811869f5c94e96a3e.jpg → maidenhair tree (0.69)\n",
            "-30-_jpg.rf.5c504954dd33dcc6665fbe862cd34763.jpg → maidenhair tree (0.98)\n",
            "-31-_jpg.rf.147cf609cfeca8879b94de9a9652ef10.jpg → maidenhair tree (0.86)\n",
            "-32-_jpg.rf.2ef6c5934f81b55bf5231213aafe1e16.jpg → green plum tree (0.45)\n",
            "-32-_jpg.rf.e8eb2b4871fa48b0347c35f879ae59d0.jpg → pine tree (0.43)\n",
            "-33-_jpg.rf.5e718e4741ff7abcff7749d385c7a52d.jpg → pear tree (0.99)\n",
            "-34-_jpg.rf.665efd6e09e7d5900e1348c9f0b9bebe.jpg → mulberry tree (0.94)\n",
            "-35-_jpg.rf.b985221c6e0e21a09ef9b7f966bd5905.jpg → mulberry tree (0.96)\n",
            "-36-_jpg.rf.ff707d3f10b6e93d5649ade9c27ea161.jpg → persimmon tree (0.40)\n",
            "-38-_jpg.rf.6d08e449c9cdb1730dea3628fc30b1b6.jpg → maple tree (0.97)\n",
            "-39-_jpg.rf.7c387b8e3075ee16a80b5aad2db5a9db.jpg → green plum tree (0.80)\n",
            "-4-_jpg.rf.0a74541e5cf7842f826bce89d9deee7f.jpg → pine tree (0.92)\n",
            "-4-_jpg.rf.429afe160cc4ff8003e0b73d9d70d2c0.jpg → maidenhair tree (0.59)\n",
            "-40-_jpg.rf.d6669a1621d90bf4c668329ceb611088.jpg → jujube tree (0.47)\n",
            "-42-_jpg.rf.001f942318f8aeab3310a618bca1accd.jpg → pine tree (1.00)\n",
            "-45-_jpg.rf.be144b3de5369b6a7d8952a137e7c4dc.jpg → pear tree (0.69)\n",
            "-46-_jpg.rf.d4a7fcfbe34c4e37f7000746f37074bb.jpg → peach tree (0.89)\n",
            "-48-_jpg.rf.9dd6f3f5f77d2db00343426eb863c774.jpg → jujube tree (0.92)\n",
            "-49-_jpg.rf.309d6b3c645b78ac03f6fc84d59b6c1d.jpg → maple tree (0.44)\n",
            "-5-_jpg.rf.3c363e88f741f7ee33086a7658f8d8dd.jpg → mulberry tree (0.99)\n",
            "-5-_jpg.rf.4840b0442bae07bebf51cda581431a4d.jpg → maple tree (0.62)\n",
            "-5-_jpg.rf.68f9ddc089d8b80efbd324b1e7ae78dc.jpg → peach tree (0.63)\n",
            "-51-_jpg.rf.9c11e4bf8980879654776348fb4412c9.jpg → pear tree (0.98)\n",
            "-7-_jpg.rf.65c0798a756eb29069b6cdde81297788.jpg → pine tree (1.00)\n",
            "-7-_jpg.rf.e5ef362bd7e162fbc22e84e600984e31.jpg → maidenhair tree (0.99)\n",
            "-8-_jpg.rf.8f5787a421d911a3781506a91f8915d2.jpg → plum tree (0.95)\n",
            "-_jpg.rf.52beb4a5bcc617ffbd6e87bc5263bb43.jpg → peach tree (0.98)\n",
            "-_jpg.rf.c60402bdfd8bfbfcd40301094798c20c.jpg → pine tree (0.44)\n",
            "-_jpg.rf.fb32a54c5a4a92ebfc796be99ce28d64.jpg → plum tree (0.73)\n",
            "blackthorn-8604451_1280_jpg.rf.2d67570492452ab24769b99a3d7d7be0.jpg → pear tree (0.43)\n",
            "fruit-8573239_1280_jpg.rf.61f0a33962ce4325c0b3d436d719eb25.jpg → green plum tree (0.97)\n",
            "suggested-nHzaaPjvqlNB6OIwxU9c_jpg.rf.436c684338cc8c2d82573971d69e7808.jpg → maidenhair tree (0.43)\n",
            "wudan3551-aPJw44yOL0Q-unsplash_jpg.rf.a0480987a4fff2a6827a770509c8cabc.jpg → persimmon tree (0.99)\n"
          ]
        }
      ]
    },
    {
      "cell_type": "code",
      "source": [
        "import os\n",
        "\n",
        "label_map = {}\n",
        "test_dir = \"/content/second-2/test\"\n",
        "\n",
        "for cls in os.listdir(test_dir):\n",
        "    cls_path = os.path.join(test_dir, cls)\n",
        "    if os.path.isdir(cls_path):\n",
        "        for fname in os.listdir(cls_path):\n",
        "            if fname.lower().endswith(('.jpg', '.jpeg', '.png')):\n",
        "                label_map[fname] = cls  # 예: {'img_1.jpg': 'pine'}"
      ],
      "metadata": {
        "id": "dn_xE2DNMJhf"
      },
      "execution_count": 53,
      "outputs": []
    },
    {
      "cell_type": "code",
      "source": [
        "correct = 0\n",
        "total = 0\n",
        "\n",
        "for r in results:\n",
        "    file_name = os.path.basename(r.path)\n",
        "    pred_class = r.names[r.probs.top1]\n",
        "    true_class = label_map.get(file_name, None)\n",
        "\n",
        "    is_correct = (pred_class == true_class)\n",
        "    total += 1\n",
        "    correct += int(is_correct)\n",
        "\n",
        "    print(f\"{file_name} | 예측: {pred_class}, 실제: {true_class} → {'O' if is_correct else 'X'}\")\n",
        "\n",
        "accuracy = (correct / total) * 100\n",
        "print(f\"전체 정확도: {accuracy:.1f}%\")"
      ],
      "metadata": {
        "colab": {
          "base_uri": "https://localhost:8080/"
        },
        "id": "A0AX6idrNEca",
        "outputId": "d09034ec-cc64-44af-d0be-af55edbd6d5d"
      },
      "execution_count": 63,
      "outputs": [
        {
          "output_type": "stream",
          "name": "stdout",
          "text": [
            "-1-_jpg.rf.92398d322d06ef68fd5535dd156e6c78.jpg | 예측: maidenhair tree, 실제: maidenhair tree → O\n",
            "-1-_png.rf.7fc755611609452699e8120d5b409f58.jpg | 예측: persimmon tree, 실제: persimmon tree → O\n",
            "-14-_jpg.rf.aed233aa6b20ca7dd44e3f97485529eb.jpg | 예측: jujube tree, 실제: jujube tree → O\n",
            "-15-_jpg.rf.5cf8b90c332310ad0ff4e3a5e0d6e53b.jpg | 예측: mulberry tree, 실제: mulberry tree → O\n",
            "-16-_jpg.rf.011168a1b7314c535c532719c5edb9b6.jpg | 예측: jujube tree, 실제: plum tree → X\n",
            "-17-_jpg.rf.5443f9a7017138cec9caf45a3025485a.jpg | 예측: pine tree, 실제: pine tree → O\n",
            "-18-_jpg.rf.567ac650d4085963ade310394563c2a9.jpg | 예측: persimmon tree, 실제: persimmon tree → O\n",
            "-18-_jpg.rf.faac617805190f8b7ad23415022a187c.jpg | 예측: plum tree, 실제: plum tree → O\n",
            "-19-_jpg.rf.3c76436d531a29e246191097ef91f282.jpg | 예측: maple tree, 실제: maple tree → O\n",
            "-19-_jpg.rf.ddf7f0db040ba580f0971293e1a78fa0.jpg | 예측: jujube tree, 실제: jujube tree → O\n",
            "-2-_jpg.rf.b8cffe5b1232fdea6e15ea1c182998ba.jpg | 예측: peach tree, 실제: peach tree → O\n",
            "-2-_jpg.rf.e27fdf8b2d384bdf91fe02fdfd3c8993.jpg | 예측: pear tree, 실제: pear tree → O\n",
            "-22-_jpg.rf.36473a210dbd63370c06d9648b945ecf.jpg | 예측: green plum tree, 실제: green plum tree → O\n",
            "-23-_jpg.rf.04dc41874eac7c27e9947ed9a0a950d7.jpg | 예측: persimmon tree, 실제: persimmon tree → O\n",
            "-23-_jpg.rf.5026aeadfc2698da7b5f7bb2ec7889d3.jpg | 예측: pear tree, 실제: pear tree → O\n",
            "-24-_jpg.rf.6851170381aa031369296a0d7d805896.jpg | 예측: mulberry tree, 실제: mulberry tree → O\n",
            "-26-_jpg.rf.ac5137883ef08037dcaf5fd81d909d7e.jpg | 예측: mulberry tree, 실제: mulberry tree → O\n",
            "-27-_jpg.rf.fd15090ca0df2787cff008cce82f5af8.jpg | 예측: peach tree, 실제: peach tree → O\n",
            "-29-_jpg.rf.0e01b6603f490145ed16d7fc6aefeb9b.jpg | 예측: maidenhair tree, 실제: maidenhair tree → O\n",
            "-29-_jpg.rf.1f8736a05325787534aa3a81071b2595.jpg | 예측: persimmon tree, 실제: persimmon tree → O\n",
            "-3-_jpg.rf.ec65ed474887ab5811869f5c94e96a3e.jpg | 예측: maidenhair tree, 실제: green plum tree → X\n",
            "-30-_jpg.rf.5c504954dd33dcc6665fbe862cd34763.jpg | 예측: maidenhair tree, 실제: maidenhair tree → O\n",
            "-31-_jpg.rf.147cf609cfeca8879b94de9a9652ef10.jpg | 예측: maidenhair tree, 실제: maidenhair tree → O\n",
            "-32-_jpg.rf.2ef6c5934f81b55bf5231213aafe1e16.jpg | 예측: green plum tree, 실제: green plum tree → O\n",
            "-32-_jpg.rf.e8eb2b4871fa48b0347c35f879ae59d0.jpg | 예측: pine tree, 실제: pine tree → O\n",
            "-33-_jpg.rf.5e718e4741ff7abcff7749d385c7a52d.jpg | 예측: pear tree, 실제: pear tree → O\n",
            "-34-_jpg.rf.665efd6e09e7d5900e1348c9f0b9bebe.jpg | 예측: mulberry tree, 실제: mulberry tree → O\n",
            "-35-_jpg.rf.b985221c6e0e21a09ef9b7f966bd5905.jpg | 예측: mulberry tree, 실제: jujube tree → X\n",
            "-36-_jpg.rf.ff707d3f10b6e93d5649ade9c27ea161.jpg | 예측: persimmon tree, 실제: jujube tree → X\n",
            "-38-_jpg.rf.6d08e449c9cdb1730dea3628fc30b1b6.jpg | 예측: maple tree, 실제: maple tree → O\n",
            "-39-_jpg.rf.7c387b8e3075ee16a80b5aad2db5a9db.jpg | 예측: green plum tree, 실제: green plum tree → O\n",
            "-4-_jpg.rf.0a74541e5cf7842f826bce89d9deee7f.jpg | 예측: pine tree, 실제: pine tree → O\n",
            "-4-_jpg.rf.429afe160cc4ff8003e0b73d9d70d2c0.jpg | 예측: maidenhair tree, 실제: persimmon tree → X\n",
            "-40-_jpg.rf.d6669a1621d90bf4c668329ceb611088.jpg | 예측: jujube tree, 실제: plum tree → X\n",
            "-42-_jpg.rf.001f942318f8aeab3310a618bca1accd.jpg | 예측: pine tree, 실제: pine tree → O\n",
            "-45-_jpg.rf.be144b3de5369b6a7d8952a137e7c4dc.jpg | 예측: pear tree, 실제: pear tree → O\n",
            "-46-_jpg.rf.d4a7fcfbe34c4e37f7000746f37074bb.jpg | 예측: peach tree, 실제: peach tree → O\n",
            "-48-_jpg.rf.9dd6f3f5f77d2db00343426eb863c774.jpg | 예측: jujube tree, 실제: jujube tree → O\n",
            "-49-_jpg.rf.309d6b3c645b78ac03f6fc84d59b6c1d.jpg | 예측: maple tree, 실제: maple tree → O\n",
            "-5-_jpg.rf.3c363e88f741f7ee33086a7658f8d8dd.jpg | 예측: mulberry tree, 실제: mulberry tree → O\n",
            "-5-_jpg.rf.4840b0442bae07bebf51cda581431a4d.jpg | 예측: maple tree, 실제: maple tree → O\n",
            "-5-_jpg.rf.68f9ddc089d8b80efbd324b1e7ae78dc.jpg | 예측: peach tree, 실제: peach tree → O\n",
            "-51-_jpg.rf.9c11e4bf8980879654776348fb4412c9.jpg | 예측: pear tree, 실제: pear tree → O\n",
            "-7-_jpg.rf.65c0798a756eb29069b6cdde81297788.jpg | 예측: pine tree, 실제: pine tree → O\n",
            "-7-_jpg.rf.e5ef362bd7e162fbc22e84e600984e31.jpg | 예측: maidenhair tree, 실제: maidenhair tree → O\n",
            "-8-_jpg.rf.8f5787a421d911a3781506a91f8915d2.jpg | 예측: plum tree, 실제: plum tree → O\n",
            "-_jpg.rf.52beb4a5bcc617ffbd6e87bc5263bb43.jpg | 예측: peach tree, 실제: peach tree → O\n",
            "-_jpg.rf.c60402bdfd8bfbfcd40301094798c20c.jpg | 예측: pine tree, 실제: maple tree → X\n",
            "-_jpg.rf.fb32a54c5a4a92ebfc796be99ce28d64.jpg | 예측: plum tree, 실제: plum tree → O\n",
            "blackthorn-8604451_1280_jpg.rf.2d67570492452ab24769b99a3d7d7be0.jpg | 예측: pear tree, 실제: green plum tree → X\n",
            "fruit-8573239_1280_jpg.rf.61f0a33962ce4325c0b3d436d719eb25.jpg | 예측: green plum tree, 실제: None → X\n",
            "suggested-nHzaaPjvqlNB6OIwxU9c_jpg.rf.436c684338cc8c2d82573971d69e7808.jpg | 예측: maidenhair tree, 실제: None → X\n",
            "wudan3551-aPJw44yOL0Q-unsplash_jpg.rf.a0480987a4fff2a6827a770509c8cabc.jpg | 예측: persimmon tree, 실제: None → X\n",
            "전체 정확도: 79.2%\n"
          ]
        }
      ]
    },
    {
      "cell_type": "code",
      "source": [
        "import numpy as np\n",
        "import matplotlib.pyplot as plt\n",
        "from sklearn.metrics import confusion_matrix, ConfusionMatrixDisplay #confusion matrix로 시각화"
      ],
      "metadata": {
        "id": "tyAUi4mgRA0a"
      },
      "execution_count": 65,
      "outputs": []
    },
    {
      "cell_type": "code",
      "source": [
        "true_labels = []\n",
        "pred_labels = []\n",
        "\n",
        "for r in results:\n",
        "    file_name = os.path.basename(r.path)\n",
        "    true_class = label_map.get(file_name, None)\n",
        "    pred_class = r.names[r.probs.top1]\n",
        "\n",
        "    if true_class is not None:\n",
        "        true_labels.append(true_class)\n",
        "        pred_labels.append(pred_class)"
      ],
      "metadata": {
        "id": "0WVhc5fzRLLq"
      },
      "execution_count": 66,
      "outputs": []
    },
    {
      "cell_type": "code",
      "source": [
        "# 클래스 이름 목록을 고정 순서로 추출\n",
        "class_names = sorted(set(true_labels + pred_labels))\n",
        "\n",
        "# 혼동 행렬 계산\n",
        "cm = confusion_matrix(true_labels, pred_labels, labels=class_names)\n",
        "\n",
        "# 시각화\n",
        "disp = ConfusionMatrixDisplay(confusion_matrix=cm, display_labels=class_names)\n",
        "fig, ax = plt.subplots(figsize=(8, 6))\n",
        "disp.plot(ax=ax, cmap=\"Blues\", xticks_rotation=45)\n",
        "plt.title(\"Confusion Matrix\")\n",
        "plt.grid(False)\n",
        "plt.show()"
      ],
      "metadata": {
        "colab": {
          "base_uri": "https://localhost:8080/",
          "height": 639
        },
        "id": "dSw3GFjbRNa1",
        "outputId": "a3a43887-d1f4-458e-f2de-905c48f618db"
      },
      "execution_count": 67,
      "outputs": [
        {
          "output_type": "display_data",
          "data": {
            "text/plain": [
              "<Figure size 800x600 with 2 Axes>"
            ],
            "image/png": "[encoded data removed]"
          },
          "metadata": {}
        }
      ]
    }
  ]
}